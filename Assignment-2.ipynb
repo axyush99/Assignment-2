{
 "cells": [
  {
   "cell_type": "code",
   "execution_count": 3,
   "id": "c3819aea-eada-4529-b63e-311009cdc676",
   "metadata": {},
   "outputs": [
    {
     "name": "stdin",
     "output_type": "stream",
     "text": [
      " aayush\n"
     ]
    },
    {
     "name": "stdout",
     "output_type": "stream",
     "text": [
      "hsuyaa\n"
     ]
    }
   ],
   "source": [
    "s = str(input())\n",
    "print(s[::-1])"
   ]
  },
  {
   "cell_type": "code",
   "execution_count": 7,
   "id": "9e1cb09c-56ff-46f5-ac9f-267a926f1105",
   "metadata": {},
   "outputs": [
    {
     "name": "stdin",
     "output_type": "stream",
     "text": [
      " aayush\n"
     ]
    },
    {
     "name": "stdout",
     "output_type": "stream",
     "text": [
      "aayush is not Palindrome\n"
     ]
    }
   ],
   "source": [
    "s = str(input())\n",
    "l = s[::-1]\n",
    "if(s==l):\n",
    "    print(s,\"is Palindrome\")\n",
    "else:\n",
    "    print(s,\"is not Palindrome\")"
   ]
  },
  {
   "cell_type": "code",
   "execution_count": 8,
   "id": "698c7e23-3e7c-4bcc-ae57-1f21f5475a87",
   "metadata": {},
   "outputs": [
    {
     "name": "stdin",
     "output_type": "stream",
     "text": [
      " aayush\n"
     ]
    },
    {
     "name": "stdout",
     "output_type": "stream",
     "text": [
      "AAYUSH\n"
     ]
    }
   ],
   "source": [
    "s = str(input())\n",
    "print(s.upper())"
   ]
  },
  {
   "cell_type": "code",
   "execution_count": 10,
   "id": "bf70fa7e-09ee-45ed-a910-f8bd90e34997",
   "metadata": {},
   "outputs": [
    {
     "name": "stdin",
     "output_type": "stream",
     "text": [
      " AAYUSH\n"
     ]
    },
    {
     "name": "stdout",
     "output_type": "stream",
     "text": [
      "aayush\n"
     ]
    }
   ],
   "source": [
    "s = str(input())\n",
    "print(s.lower())"
   ]
  },
  {
   "cell_type": "code",
   "execution_count": 16,
   "id": "bcf3190d-ed94-49d2-88d8-a3e709b8bb53",
   "metadata": {},
   "outputs": [
    {
     "name": "stdin",
     "output_type": "stream",
     "text": [
      "Enter a sentence:  amsterdam\n"
     ]
    },
    {
     "name": "stdout",
     "output_type": "stream",
     "text": [
      "Number of vowels in the sentence: 3\n"
     ]
    }
   ],
   "source": [
    "sentence = input(\"Enter a sentence: \")\n",
    "vowel = \"aeiou\"\n",
    "count=0\n",
    "for char in sentence:\n",
    "    if char in vowel:\n",
    "        count += 1\n",
    "print(\"Number of vowels in the sentence:\", count)"
   ]
  },
  {
   "cell_type": "code",
   "execution_count": 14,
   "id": "d82df62a-27b6-4539-9f4c-3771159de611",
   "metadata": {},
   "outputs": [
    {
     "name": "stdin",
     "output_type": "stream",
     "text": [
      "Enter a sentence:  aayushi\n"
     ]
    },
    {
     "name": "stdout",
     "output_type": "stream",
     "text": [
      "Number of consonants in the sentence: 3\n"
     ]
    }
   ],
   "source": [
    "sentence = input(\"Enter a sentence: \")\n",
    "consonant = \"bcdfghjklmnpqrstvwxyz\"\n",
    "count = 0\n",
    "for char in sentence:\n",
    "    if char in consonant:\n",
    "        count += 1\n",
    "print(\"Number of consonants in the sentence:\", count)"
   ]
  },
  {
   "cell_type": "code",
   "execution_count": 18,
   "id": "6a637573-89b6-4a20-ace7-d410defe675c",
   "metadata": {},
   "outputs": [
    {
     "name": "stdin",
     "output_type": "stream",
     "text": [
      "Enter a Sentence:  my name is aayush\n"
     ]
    },
    {
     "name": "stdout",
     "output_type": "stream",
     "text": [
      "mynameisaayush\n"
     ]
    }
   ],
   "source": [
    "sentence = str(input(\"Enter a Sentence: \"))\n",
    "print(sentence.replace(\" \", \"\"))"
   ]
  },
  {
   "cell_type": "code",
   "execution_count": 19,
   "id": "4a295aa5-a743-4753-9773-e227bfe846d1",
   "metadata": {},
   "outputs": [
    {
     "name": "stdin",
     "output_type": "stream",
     "text": [
      "Enter a String aayush\n"
     ]
    },
    {
     "name": "stdout",
     "output_type": "stream",
     "text": [
      "Length of string  aayush is  6\n"
     ]
    }
   ],
   "source": [
    "s = str(input(\"Enter a String\"))\n",
    "length=0\n",
    "for _ in s:\n",
    "    length+=1\n",
    "print(\"Length of string \",s,\"is \",length)"
   ]
  },
  {
   "cell_type": "code",
   "execution_count": 23,
   "id": "895ee398-e18a-484c-a543-1c1404403a42",
   "metadata": {},
   "outputs": [
    {
     "name": "stdout",
     "output_type": "stream",
     "text": [
      "\"Hello Pwskills\" contains \"Hello\"\n"
     ]
    }
   ],
   "source": [
    "s = \"Hello Pwskills\"\n",
    "s2=\"Hello\"\n",
    "index = s.find(s2)\n",
    "if index != -1:\n",
    "    print(f'\"{s}\" contains \"{s2}\"')\n",
    "else:\n",
    "    print(f'\"{s}\" does not contain \"{s2}\"')"
   ]
  },
  {
   "cell_type": "code",
   "execution_count": 24,
   "id": "d6d23289-f82d-449f-8691-565ae007d425",
   "metadata": {},
   "outputs": [
    {
     "name": "stdout",
     "output_type": "stream",
     "text": [
      "Hello World\n"
     ]
    }
   ],
   "source": [
    "s = \"Hello Pwskills\"\n",
    "print(s.replace(\"Pwskills\", \"World\"))"
   ]
  },
  {
   "cell_type": "code",
   "execution_count": 25,
   "id": "f890e0e3-3d53-4e0a-a09f-7e24f192fde8",
   "metadata": {},
   "outputs": [
    {
     "name": "stdout",
     "output_type": "stream",
     "text": [
      "2\n"
     ]
    }
   ],
   "source": [
    "s = \"Hello Pwskills, Hello Aayush\"\n",
    "print(s.count(\"Hello\"))"
   ]
  },
  {
   "cell_type": "code",
   "execution_count": 29,
   "id": "1049037f-fe0d-40d2-90cb-4fdf510dda5a",
   "metadata": {},
   "outputs": [
    {
     "name": "stdout",
     "output_type": "stream",
     "text": [
      "Hello first occurence is at index  0\n"
     ]
    }
   ],
   "source": [
    "s = \"Hello Pwskills, Hello Aayush, Hello World\"\n",
    "ind = s.find(\"Hello\")\n",
    "print(\"Hello first occurence is at index \", ind)"
   ]
  },
  {
   "cell_type": "code",
   "execution_count": 30,
   "id": "e3868466-59ec-4bf0-9fd4-15c2cc54cc4e",
   "metadata": {},
   "outputs": [
    {
     "name": "stdout",
     "output_type": "stream",
     "text": [
      "Hello last occurence is at index  30\n"
     ]
    }
   ],
   "source": [
    "s = \"Hello Pwskills, Hello Aayush, Hello World\"\n",
    "ind = s.rfind(\"Hello\")\n",
    "print(\"Hello last occurence is at index \", ind)"
   ]
  },
  {
   "cell_type": "code",
   "execution_count": 49,
   "id": "ddbe6018-0e46-4abb-95fe-5d7b634770bd",
   "metadata": {},
   "outputs": [
    {
     "name": "stdout",
     "output_type": "stream",
     "text": [
      "['Hello', 'I', 'am', 'Aayush', 'I', 'am', '20', 'yrs', 'old']\n"
     ]
    }
   ],
   "source": [
    "s= \"Hello I am Aayush I am 20 yrs old\"\n",
    "x=s.split(\" \")\n",
    "print (x)"
   ]
  },
  {
   "cell_type": "code",
   "execution_count": 50,
   "id": "db085d98-2318-411b-b866-556a1b495459",
   "metadata": {},
   "outputs": [
    {
     "name": "stdout",
     "output_type": "stream",
     "text": [
      "Pwskills\n"
     ]
    }
   ],
   "source": [
    "s=['P','w','s','k','i','l','l','s']\n",
    "a=\"\"\n",
    "a=a.join(s)\n",
    "print(a)"
   ]
  },
  {
   "cell_type": "code",
   "execution_count": 51,
   "id": "ed3f1e4e-1f1e-48e7-aeec-8e9c0d6e4e2d",
   "metadata": {},
   "outputs": [
    {
     "name": "stdout",
     "output_type": "stream",
     "text": [
      "Hello_I_am_Aayush_I_am_20_yrs_old\n"
     ]
    }
   ],
   "source": [
    "s= \"Hello I am Aayush I am 20 yrs old\"\n",
    "s1= s.replace(\" \",\"_\")\n",
    "print(s1)"
   ]
  },
  {
   "cell_type": "code",
   "execution_count": 52,
   "id": "3498b7ab-85be-4460-b375-33ef693a963e",
   "metadata": {},
   "outputs": [
    {
     "name": "stdout",
     "output_type": "stream",
     "text": [
      "True\n"
     ]
    }
   ],
   "source": [
    "s= \"I am Aayush I am 20 yrs old\"\n",
    "print(s.startswith(\"I\"))"
   ]
  },
  {
   "cell_type": "code",
   "execution_count": 53,
   "id": "1035f043-7db8-457d-9ca0-cb7a5d52417f",
   "metadata": {},
   "outputs": [
    {
     "name": "stdout",
     "output_type": "stream",
     "text": [
      "True\n"
     ]
    }
   ],
   "source": [
    "s=\"I am Aayush I am 20 yrs old\"\n",
    "print(s.endswith(\"old\"))"
   ]
  },
  {
   "cell_type": "code",
   "execution_count": 54,
   "id": "c4b8174c-951a-48f5-89de-446508d312d6",
   "metadata": {},
   "outputs": [
    {
     "name": "stdout",
     "output_type": "stream",
     "text": [
      "Hello World\n"
     ]
    }
   ],
   "source": [
    "s=\"hello world\"\n",
    "print(s.title())"
   ]
  },
  {
   "cell_type": "code",
   "execution_count": 56,
   "id": "77deea1e-5e26-4db1-9b7f-b60aac9d9aaa",
   "metadata": {},
   "outputs": [
    {
     "name": "stdout",
     "output_type": "stream",
     "text": [
      "In string Binary Study Python Programming the max length word is Programming\n"
     ]
    }
   ],
   "source": [
    "s=\"Binary Study Python Programming\"\n",
    "a= s.split()\n",
    "maxword= max(a, key=len)\n",
    "print(\"In string\",s,\"the max length word is\",maxword)"
   ]
  },
  {
   "cell_type": "code",
   "execution_count": 57,
   "id": "0671a282-1612-49f2-a5ab-3f4ed60c9723",
   "metadata": {},
   "outputs": [
    {
     "name": "stdout",
     "output_type": "stream",
     "text": [
      "In string Binary Study Python Programming the shortest length word is Study\n"
     ]
    }
   ],
   "source": [
    "s=\"Binary Study Python Programming\"\n",
    "a= s.split()\n",
    "minword= min(a, key=len)\n",
    "print(\"In string\",s,\"the shortest length word is\",minword)"
   ]
  },
  {
   "cell_type": "code",
   "execution_count": 61,
   "id": "35db9050-b296-4f88-a8f9-544e9b2d9b99",
   "metadata": {},
   "outputs": [
    {
     "name": "stdout",
     "output_type": "stream",
     "text": [
      "Binary Study Python Programming\n",
      "Reverse of Binary Study Python Programming is: gnimmargorP nohtyP ydutS yraniB\n"
     ]
    }
   ],
   "source": [
    "print(s)\n",
    "s1=s[::-1]\n",
    "print(\"Reverse of\",s,\"is:\",s1)"
   ]
  },
  {
   "cell_type": "code",
   "execution_count": 63,
   "id": "1c7f837c-8cdf-4697-a3af-6c3bddc3066b",
   "metadata": {},
   "outputs": [
    {
     "data": {
      "text/plain": [
       "True"
      ]
     },
     "execution_count": 63,
     "metadata": {},
     "output_type": "execute_result"
    }
   ],
   "source": [
    "s= \"1234Hello5678\"\n",
    "s.isalnum()"
   ]
  },
  {
   "cell_type": "code",
   "execution_count": 69,
   "id": "1e0c3599-7270-46f1-a5c3-2804294c3b09",
   "metadata": {},
   "outputs": [
    {
     "name": "stdout",
     "output_type": "stream",
     "text": [
      "Original string: There are 2 apples and 4 bananas\n",
      "Extracted digits are:[2, 4]\n"
     ]
    }
   ],
   "source": [
    "s=\"There are 2 apples and 4 bananas\"\n",
    "print(\"Original string:\",s)\n",
    "l=[]\n",
    "x=s.split()\n",
    "for i in x:\n",
    "    if i.isnumeric():\n",
    "        l.append(int(i))\n",
    "print(\"Extracted digits are:\" + str(l))"
   ]
  },
  {
   "cell_type": "code",
   "execution_count": 70,
   "id": "eb72282a-81fc-4394-922d-060f4140a19e",
   "metadata": {},
   "outputs": [
    {
     "name": "stdout",
     "output_type": "stream",
     "text": [
      "Original string: There are 2 apples and 4 bananas\n",
      "Extracted alphabets are:['There', 'are', 'apples', 'and', 'bananas']\n"
     ]
    }
   ],
   "source": [
    "s=\"There are 2 apples and 4 bananas\"\n",
    "print(\"Original string:\",s)\n",
    "l=[]\n",
    "x=s.split()\n",
    "for i in x:\n",
    "    if i.isalpha():\n",
    "        l.append(str(i))\n",
    "print(\"Extracted alphabets are:\" + str(l))"
   ]
  },
  {
   "cell_type": "code",
   "execution_count": 71,
   "id": "79487ea2-c8c5-41b5-b29f-25649cd0a36c",
   "metadata": {},
   "outputs": [
    {
     "name": "stdout",
     "output_type": "stream",
     "text": [
      "Upper Case letters count are: 3\n"
     ]
    }
   ],
   "source": [
    "s=\"There are 2 Apples and 4 Bananas\"\n",
    "upper_case_count=0\n",
    "for i in s:\n",
    "    if i.isupper():\n",
    "        upper_case_count+=1\n",
    "print(\"Upper Case letters count are:\",upper_case_count)"
   ]
  },
  {
   "cell_type": "code",
   "execution_count": 72,
   "id": "9dc32a18-5991-43fd-87be-35de6f46122c",
   "metadata": {},
   "outputs": [
    {
     "name": "stdout",
     "output_type": "stream",
     "text": [
      "Lower Case letters count are: 21\n"
     ]
    }
   ],
   "source": [
    "s=\"There are 2 Apples and 4 Bananas\"\n",
    "lower_case_count=0\n",
    "for i in s:\n",
    "    if i.islower():\n",
    "        lower_case_count+=1\n",
    "print(\"Lower Case letters count are:\",lower_case_count)"
   ]
  },
  {
   "cell_type": "code",
   "execution_count": 74,
   "id": "5bc74691-e629-4cda-85e5-db3fff1a9f6f",
   "metadata": {},
   "outputs": [
    {
     "name": "stdout",
     "output_type": "stream",
     "text": [
      "aAYUSH\n"
     ]
    }
   ],
   "source": [
    "s=\"Aayush\"\n",
    "x=s.swapcase()\n",
    "print(x)"
   ]
  },
  {
   "cell_type": "code",
   "execution_count": 76,
   "id": "4afa6d00-6d43-488e-b9b2-bd3e0852c167",
   "metadata": {},
   "outputs": [
    {
     "name": "stdout",
     "output_type": "stream",
     "text": [
      "There are 2 Apples  4 Bananas\n"
     ]
    }
   ],
   "source": [
    "s=\"There are 2 Apples and 4 Bananas\"\n",
    "s1=s.replace(\"and\",\"\")\n",
    "print(s1)"
   ]
  },
  {
   "cell_type": "code",
   "execution_count": 80,
   "id": "83d07d30-9fef-468e-819f-dcff8e29c1a7",
   "metadata": {},
   "outputs": [
    {
     "name": "stdin",
     "output_type": "stream",
     "text": [
      "Enter Email Address: aayushbusiness07@gmail.com\n"
     ]
    },
    {
     "name": "stdout",
     "output_type": "stream",
     "text": [
      "aayushbusiness07@gmail.com  is a valid email id\n"
     ]
    }
   ],
   "source": [
    "s= str(input(\"Enter Email Address:\"))\n",
    "if s.count(\"@\")!=1:\n",
    "    print(\"@ is not there in the given email:\",s)\n",
    "else:\n",
    "    uname,domain= s.split(\"@\")\n",
    "if len(uname)==0 or len(domain)==0:\n",
    "    print(\"Username or Domain not provided\")\n",
    "elif domain.find('.')==-1:\n",
    "    print(\". is not found\")\n",
    "else:\n",
    "    print(s,\" is a valid email id\")"
   ]
  },
  {
   "cell_type": "code",
   "execution_count": 81,
   "id": "23f19ed2-62b4-4869-9dcb-b5f7d2dfcfbb",
   "metadata": {},
   "outputs": [
    {
     "name": "stdin",
     "output_type": "stream",
     "text": [
      "Enter Email Id: user@domain.com\n"
     ]
    },
    {
     "name": "stdout",
     "output_type": "stream",
     "text": [
      "Username is: user\n"
     ]
    }
   ],
   "source": [
    "s= str(input(\"Enter Email Id:\"))\n",
    "uname, domain= s.split(\"@\")\n",
    "print(\"Username is:\", uname)"
   ]
  },
  {
   "cell_type": "code",
   "execution_count": 82,
   "id": "fc8640fe-7bd6-48f7-802d-800a321447e5",
   "metadata": {},
   "outputs": [
    {
     "name": "stdin",
     "output_type": "stream",
     "text": [
      "Enter Email Id: user@example.com\n"
     ]
    },
    {
     "name": "stdout",
     "output_type": "stream",
     "text": [
      "Domain Name is: example.com\n"
     ]
    }
   ],
   "source": [
    "s= str(input(\"Enter Email Id:\"))\n",
    "uname, domain= s.split(\"@\")\n",
    "print(\"Domain Name is:\", domain)"
   ]
  },
  {
   "cell_type": "code",
   "execution_count": 84,
   "id": "11158f1e-353f-45d1-ba04-d85589eec545",
   "metadata": {},
   "outputs": [
    {
     "name": "stdout",
     "output_type": "stream",
     "text": [
      "Welcome Aayush\n"
     ]
    }
   ],
   "source": [
    "s=\"Welcome    Aayush\"\n",
    "s1= \" \".join(s.split())\n",
    "print(s1)"
   ]
  },
  {
   "cell_type": "code",
   "execution_count": 85,
   "id": "2bce69f3-9fa6-4763-b5ec-ef48a1eb16bc",
   "metadata": {},
   "outputs": [
    {
     "name": "stdin",
     "output_type": "stream",
     "text": [
      "Enter URL: https//:www.example.com\n"
     ]
    },
    {
     "name": "stdout",
     "output_type": "stream",
     "text": [
      "https//:www.example.com  is a valid URL\n"
     ]
    }
   ],
   "source": [
    "s= str(input(\"Enter URL:\"))\n",
    "if s.count(\"//:\")!=1:\n",
    "    print(\"//: is not there in the given url:\",s)\n",
    "else:\n",
    "    pro,link= s.split(\"//\")\n",
    "if len(pro)==0 or len(link)==0:\n",
    "    print(\"Protocol/Link not provided\")\n",
    "elif link.find(\"www\")==-1:\n",
    "    print(\"www is not found\")\n",
    "elif link.find(\".\")==-1:\n",
    "    print(\". is not found\")\n",
    "elif link.find(\"com\")==-1:\n",
    "    print(\"com is not found\")\n",
    "else:\n",
    "    print(s,\" is a valid URL\")"
   ]
  },
  {
   "cell_type": "code",
   "execution_count": 86,
   "id": "ba7d3099-6106-4aa2-9cca-dafd1936c1f0",
   "metadata": {},
   "outputs": [
    {
     "name": "stdin",
     "output_type": "stream",
     "text": [
      "Enter URL: https//:www.pwskills.com\n"
     ]
    },
    {
     "name": "stdout",
     "output_type": "stream",
     "text": [
      "Protocol is: https\n"
     ]
    }
   ],
   "source": [
    "s= str(input(\"Enter URL:\"))\n",
    "pro, link= s.split(\"//:\")\n",
    "print(\"Protocol is:\", pro)"
   ]
  },
  {
   "cell_type": "code",
   "execution_count": 91,
   "id": "112c7e36-7ebe-424a-8c9e-4f8e1dc01441",
   "metadata": {},
   "outputs": [
    {
     "name": "stdout",
     "output_type": "stream",
     "text": [
      "h:1, e:1, l:3, o:2, w:1, r:1, d:1, !:1\n"
     ]
    }
   ],
   "source": [
    "input_string = \"hello, world!\"\n",
    "frequency_str = \"\"\n",
    "for char in input_string:\n",
    "    if char not in frequency_str:\n",
    "        count = input_string.count(char)\n",
    "        frequency_str += f'{char}:{count}, '\n",
    "frequency_str = frequency_str[:-2]\n",
    "print(frequency_str)"
   ]
  },
  {
   "cell_type": "code",
   "execution_count": 97,
   "id": "1ce47db3-cd9a-4354-b344-f1a857d55c6e",
   "metadata": {},
   "outputs": [
    {
     "name": "stdout",
     "output_type": "stream",
     "text": [
      "Hello World\n"
     ]
    }
   ],
   "source": [
    "s= \"Hello, World!\"\n",
    "punc='!,@#$%^&*:\";'\n",
    "for i in s:\n",
    "    if i in punc:\n",
    "        s=s.replace(i,\"\")\n",
    "print (s)"
   ]
  },
  {
   "cell_type": "code",
   "execution_count": 102,
   "id": "98709672-26d5-4d84-9681-1ca9254b6f5f",
   "metadata": {},
   "outputs": [
    {
     "name": "stdin",
     "output_type": "stream",
     "text": [
      "Enter a String: 1234565\n"
     ]
    },
    {
     "name": "stdout",
     "output_type": "stream",
     "text": [
      "1234565 contains digit only\n"
     ]
    }
   ],
   "source": [
    "s= input(\"Enter a String:\")\n",
    "if(s.isdigit()==True):\n",
    "    print(s,\"contains digit only\")\n",
    "else:\n",
    "    print(s,\"also contains alpha values & etc\")"
   ]
  },
  {
   "cell_type": "code",
   "execution_count": 103,
   "id": "96bc0935-90af-4180-a971-7391d8f69ace",
   "metadata": {},
   "outputs": [
    {
     "name": "stdin",
     "output_type": "stream",
     "text": [
      "Enter a String: aayush\n"
     ]
    },
    {
     "name": "stdout",
     "output_type": "stream",
     "text": [
      "aayush contains alphabets only\n"
     ]
    }
   ],
   "source": [
    "s= str(input(\"Enter a String:\"))\n",
    "if(s.isalpha()==True):\n",
    "    print(s,\"contains alphabets only\")\n",
    "else:\n",
    "    print(s,\"also contains num values & etc\")"
   ]
  },
  {
   "cell_type": "code",
   "execution_count": 104,
   "id": "21fa7852-9cff-4ac5-8648-06686c141701",
   "metadata": {},
   "outputs": [
    {
     "name": "stdin",
     "output_type": "stream",
     "text": [
      "Enter a String: aayush\n"
     ]
    },
    {
     "name": "stdout",
     "output_type": "stream",
     "text": [
      "['a', 'a', 'y', 'u', 's', 'h']\n"
     ]
    }
   ],
   "source": [
    "s= str(input(\"Enter a String:\"))\n",
    "x=list(s)\n",
    "print(x)"
   ]
  },
  {
   "cell_type": "code",
   "execution_count": 107,
   "id": "464d8c0b-9e15-4a5f-8bc0-18dcfa9d4e1f",
   "metadata": {},
   "outputs": [
    {
     "name": "stdin",
     "output_type": "stream",
     "text": [
      "Enter a String-1: listen\n",
      "Enter a String-2: silent\n"
     ]
    },
    {
     "name": "stdout",
     "output_type": "stream",
     "text": [
      "listen & silent are anagrams\n"
     ]
    }
   ],
   "source": [
    "s1=str(input(\"Enter a String-1:\"))\n",
    "s2=str(input(\"Enter a String-2:\"))\n",
    "if (sorted(s1)==sorted(s2)):\n",
    "    print(s1,\"&\",s2,\"are anagrams\")\n",
    "else:\n",
    "    print(s1,\"&\",s2,\"are not anagrams\")"
   ]
  },
  {
   "cell_type": "code",
   "execution_count": 109,
   "id": "e9c4feac-55ad-4c9b-9a1f-afe30299ac43",
   "metadata": {},
   "outputs": [
    {
     "name": "stdout",
     "output_type": "stream",
     "text": [
      "Original Text: Hello, World!\n",
      "Encrypted Text: Khoor, Zruog!\n"
     ]
    }
   ],
   "source": [
    "plaintext = \"Hello, World!\"\n",
    "shift = 3\n",
    "encrypted_text = \"\"\n",
    "for char in plaintext:\n",
    "    if char.isalpha():\n",
    "        is_upper = char.isupper()\n",
    "        char_code = ord(char)\n",
    "        encrypted_code = (char_code - ord('A' if is_upper else 'a') + shift) % 26\n",
    "        encrypted_char = chr(encrypted_code + ord('A' if is_upper else 'a'))\n",
    "        encrypted_text += encrypted_char\n",
    "    else:\n",
    "        encrypted_text += char\n",
    "print(f\"Original Text: {plaintext}\")\n",
    "print(f\"Encrypted Text: {encrypted_text}\")"
   ]
  },
  {
   "cell_type": "code",
   "execution_count": 112,
   "id": "e891762b-235b-4b2f-9d8c-845da9201f21",
   "metadata": {},
   "outputs": [
    {
     "name": "stdout",
     "output_type": "stream",
     "text": [
      "Encrypted Text: Khoor, Zruog!\n",
      "Decoded Text: Hello, World!\n"
     ]
    }
   ],
   "source": [
    "encrypted_text = \"Khoor, Zruog!\"\n",
    "shift = 3\n",
    "decoded_text = \"\"\n",
    "for char in encrypted_text:\n",
    "    if char.isalpha():\n",
    "        is_upper = char.isupper()\n",
    "        char_code = ord(char)\n",
    "        decoded_code = (char_code - ord('A' if is_upper else 'a') - shift) % 26\n",
    "        decoded_char = chr(decoded_code + ord('A' if is_upper else 'a'))\n",
    "        decoded_text += decoded_char\n",
    "    else:\n",
    "        decoded_text += char\n",
    "print(f\"Encrypted Text: {encrypted_text}\")\n",
    "print(f\"Decoded Text: {decoded_text}\")"
   ]
  },
  {
   "cell_type": "code",
   "execution_count": 119,
   "id": "379d869a-e9af-4887-804e-eb849d4c33c2",
   "metadata": {},
   "outputs": [
    {
     "name": "stdout",
     "output_type": "stream",
     "text": [
      "The most frequent word is: this & Frequency: 2\n"
     ]
    }
   ],
   "source": [
    "input_string = \"This is an example string. This contains repeated words\"\n",
    "words = input_string.split()\n",
    "most_frequent_word = \"\"\n",
    "max_frequency = 0\n",
    "for word in words:\n",
    "    word = word.strip(\".,!?'\\\"\")\n",
    "    word_lower = word.lower()\n",
    "    frequency = sum(1 for w in words if w.lower() == word_lower)\n",
    "    if frequency > max_frequency:\n",
    "        most_frequent_word = word_lower\n",
    "        max_frequency = frequency\n",
    "print(\"The most frequent word is:\", most_frequent_word, \"& Frequency:\", max_frequency)"
   ]
  },
  {
   "cell_type": "code",
   "execution_count": 122,
   "id": "6d04cf52-1840-4502-9f52-33072a8d37fa",
   "metadata": {},
   "outputs": [
    {
     "name": "stdout",
     "output_type": "stream",
     "text": [
      "['aayush', 'is']\n"
     ]
    }
   ],
   "source": [
    "s=\"aayush is aayush\"\n",
    "s=s.split(' ')\n",
    "duplicates=[]\n",
    "for i in s:\n",
    "    if i not in duplicates:\n",
    "        duplicates.append(i)\n",
    "print(duplicates)"
   ]
  },
  {
   "cell_type": "code",
   "execution_count": 123,
   "id": "d42fe396-f7d7-4377-a015-a388b38d11a0",
   "metadata": {},
   "outputs": [
    {
     "name": "stdout",
     "output_type": "stream",
     "text": [
      "The number of syllables is: 13\n"
     ]
    }
   ],
   "source": [
    "s=\"This is an example string with multiple syllables.\"\n",
    "vowels=\"aeiouAEIOU\"\n",
    "syllables=0\n",
    "for i in s:\n",
    "    if i in vowels:\n",
    "        syllables+=1\n",
    "print(\"The number of syllables is:\",syllables)"
   ]
  },
  {
   "cell_type": "code",
   "execution_count": 129,
   "id": "574ce557-ebb8-4182-9858-f4d65f6e158f",
   "metadata": {},
   "outputs": [
    {
     "name": "stdout",
     "output_type": "stream",
     "text": [
      "#Hello! There: contains special character\n"
     ]
    }
   ],
   "source": [
    "s=\"#Hello! There:\"\n",
    "spe='!@#$%^&*'\n",
    "if any(i in spe for i in s):\n",
    "    print(s,\"contains special character\")\n",
    "else:\n",
    "    print(s,\"doesn't contains special character\")"
   ]
  },
  {
   "cell_type": "code",
   "execution_count": 131,
   "id": "ca086af9-fff1-4f6c-825f-0b998541fabd",
   "metadata": {},
   "outputs": [
    {
     "name": "stdin",
     "output_type": "stream",
     "text": [
      "Enter a string: Aayush is a Good Boy\n",
      "Enter the nth index of the word which is to be deleted/removed: 3\n"
     ]
    },
    {
     "name": "stdout",
     "output_type": "stream",
     "text": [
      "The string after removing the nth word is: Aayush is a Boy\n"
     ]
    }
   ],
   "source": [
    "s= str(input(\"Enter a string:\"))\n",
    "n= int(input(\"Enter the nth index of the word which is to be deleted/removed:\"))\n",
    "x=s.split()\n",
    "if 0<=n<=len(x):\n",
    "    del x[n]\n",
    "    s1= \" \".join(x)\n",
    "    print(\"The string after removing the nth word is:\",s1)\n",
    "else:\n",
    "    print(\"Invalid Index\")"
   ]
  },
  {
   "cell_type": "code",
   "execution_count": 132,
   "id": "3c43367a-1e3f-4646-980c-df2f5128d899",
   "metadata": {},
   "outputs": [
    {
     "name": "stdin",
     "output_type": "stream",
     "text": [
      "Enter a string: Aayush is intelligent boy\n",
      "Enter the nth index at which the word is to be inserted:  2\n",
      "Enter a new word: an\n"
     ]
    },
    {
     "name": "stdout",
     "output_type": "stream",
     "text": [
      "The string after inserting the word at the nth position is: Aayush is an intelligent boy\n"
     ]
    }
   ],
   "source": [
    "s= str(input(\"Enter a string:\"))\n",
    "n= int(input(\"Enter the nth index at which the word is to be inserted: \"))\n",
    "s1=str(input(\"Enter a new word:\"))\n",
    "x=s.split()\n",
    "if 0<=n<=len(x):\n",
    "    x.insert(n,s1)\n",
    "    s1= \" \".join(x)\n",
    "    print(\"The string after inserting the word at the nth position is:\", s1)\n",
    "else:\n",
    "    print(\"Invalid Index\")"
   ]
  },
  {
   "cell_type": "code",
   "execution_count": 1,
   "id": "649f6e4f-12ff-461a-80f4-fb53fb73b777",
   "metadata": {},
   "outputs": [
    {
     "name": "stdout",
     "output_type": "stream",
     "text": [
      "['Name', ' Age', ' City']\n",
      "['John', ' 30', ' New York']\n",
      "['Alice', ' 25', ' Los Angeles']\n",
      "['Bob', ' 35', ' Chicago']\n"
     ]
    }
   ],
   "source": [
    "import csv\n",
    "import io\n",
    "csv_string = \"\"\"Name, Age, City\n",
    "John, 30, New York\n",
    "Alice, 25, Los Angeles\n",
    "Bob, 35, Chicago\n",
    "\"\"\"\n",
    "csv_list = list(csv.reader(io.StringIO(csv_string)))\n",
    "for row in csv_list:\n",
    "    print(row)\n"
   ]
  },
  {
   "cell_type": "code",
   "execution_count": 3,
   "id": "1399a8bf-4791-44b3-8da9-d6613f5767f4",
   "metadata": {},
   "outputs": [
    {
     "name": "stdout",
     "output_type": "stream",
     "text": [
      "[1, 2, 3, 4, 5, 6, 7, 8, 9, 10]\n"
     ]
    }
   ],
   "source": [
    "l=[1,2,3,4,5,6,7,8,9,10]\n",
    "print(l)"
   ]
  },
  {
   "cell_type": "code",
   "execution_count": 7,
   "id": "ba93b490-e753-4ab5-9058-3ff483695e54",
   "metadata": {},
   "outputs": [
    {
     "name": "stdout",
     "output_type": "stream",
     "text": [
      "Length of list is 10\n"
     ]
    }
   ],
   "source": [
    "l=[1,2,3,4,5,6,7,8,9,10]\n",
    "length=0\n",
    "for _ in l:\n",
    "    length+=1\n",
    "print(\"Length of list is\",length)    "
   ]
  },
  {
   "cell_type": "code",
   "execution_count": 8,
   "id": "48e93026-aaa8-44e6-bb78-3468fed049dc",
   "metadata": {},
   "outputs": [
    {
     "name": "stdout",
     "output_type": "stream",
     "text": [
      "[1, 2, 3, 4, 5, 6, 7, 8, 9, 10, 11]\n"
     ]
    }
   ],
   "source": [
    "l=[1,2,3,4,5,6,7,8,9,10]\n",
    "l.append(11)\n",
    "print(l)"
   ]
  },
  {
   "cell_type": "code",
   "execution_count": 9,
   "id": "21544776-496b-48ba-a234-03fab0c478ea",
   "metadata": {},
   "outputs": [
    {
     "name": "stdout",
     "output_type": "stream",
     "text": [
      "[0, 1, 2, 3, 4, 5, 6, 7, 8, 9, 10, 11]\n"
     ]
    }
   ],
   "source": [
    "l.insert(0,0)\n",
    "print(l)"
   ]
  },
  {
   "cell_type": "code",
   "execution_count": 10,
   "id": "2d2c63fd-2783-4055-a001-bf25e2690c9e",
   "metadata": {},
   "outputs": [
    {
     "name": "stdout",
     "output_type": "stream",
     "text": [
      "[1, 2, 3, 4, 5, 6, 7, 8, 9, 10, 11]\n"
     ]
    }
   ],
   "source": [
    "l.remove(0)\n",
    "print(l)"
   ]
  },
  {
   "cell_type": "code",
   "execution_count": 11,
   "id": "264ea8d8-d5e5-4cac-a5e8-7b6f358b23ec",
   "metadata": {},
   "outputs": [
    {
     "name": "stdout",
     "output_type": "stream",
     "text": [
      "[1, 2, 3, 4, 5, 7, 8, 9, 10, 11]\n"
     ]
    }
   ],
   "source": [
    "del l[5]\n",
    "print(l)"
   ]
  },
  {
   "cell_type": "code",
   "execution_count": 12,
   "id": "2b85ed9a-5a82-49df-be2a-c1a3e46cb8b5",
   "metadata": {},
   "outputs": [
    {
     "name": "stdin",
     "output_type": "stream",
     "text": [
      "Enter an Element: 4\n"
     ]
    },
    {
     "name": "stdout",
     "output_type": "stream",
     "text": [
      "Exist\n"
     ]
    }
   ],
   "source": [
    "l=[1,2,3,4,5,6]\n",
    "n=int(input(\"Enter an Element:\"))\n",
    "if n in l:\n",
    "    print(\"Exist\")\n",
    "else:\n",
    "    print(\"Not Exist\")"
   ]
  },
  {
   "cell_type": "code",
   "execution_count": 13,
   "id": "9c37002f-4b37-4374-971b-4e00cb9548e6",
   "metadata": {},
   "outputs": [
    {
     "name": "stdout",
     "output_type": "stream",
     "text": [
      "3\n"
     ]
    }
   ],
   "source": [
    "print(l.index(4))"
   ]
  },
  {
   "cell_type": "code",
   "execution_count": 14,
   "id": "3802b88e-40dd-4b1b-93b1-8c54692fc012",
   "metadata": {},
   "outputs": [
    {
     "data": {
      "text/plain": [
       "2"
      ]
     },
     "execution_count": 14,
     "metadata": {},
     "output_type": "execute_result"
    }
   ],
   "source": [
    "l=[1,2,3,4,5,1]\n",
    "l.count(1)"
   ]
  },
  {
   "cell_type": "code",
   "execution_count": 16,
   "id": "e1831b6b-95ba-4a5a-bd28-32a213ec803b",
   "metadata": {},
   "outputs": [
    {
     "name": "stdout",
     "output_type": "stream",
     "text": [
      "[9, 8, 7, 6, 5, 4, 3, 2, 1]\n"
     ]
    }
   ],
   "source": [
    "l=[1,2,3,4,5,6,7,8,9]\n",
    "l.reverse()\n",
    "print(l)"
   ]
  },
  {
   "cell_type": "code",
   "execution_count": 17,
   "id": "345e9c1b-2f86-4521-9025-1f696f0941cd",
   "metadata": {},
   "outputs": [
    {
     "name": "stdout",
     "output_type": "stream",
     "text": [
      "[1, 2, 3, 4, 5, 6, 7, 8, 9]\n"
     ]
    }
   ],
   "source": [
    "l=[3,1,6,2,9,4,7,5,8]\n",
    "l.sort()\n",
    "print(l)"
   ]
  },
  {
   "cell_type": "code",
   "execution_count": 18,
   "id": "6f6fa869-07f7-4e28-a370-64db6d12f18e",
   "metadata": {},
   "outputs": [
    {
     "name": "stdout",
     "output_type": "stream",
     "text": [
      "[9, 8, 7, 6, 5, 4, 3, 2, 1]\n"
     ]
    }
   ],
   "source": [
    "l=[3,1,6,2,9,4,7,5,8]\n",
    "l.sort()\n",
    "l.reverse()\n",
    "print(l)"
   ]
  },
  {
   "cell_type": "code",
   "execution_count": 19,
   "id": "248bfe44-0aa5-4bca-800a-9d54daea7c17",
   "metadata": {},
   "outputs": [
    {
     "name": "stdout",
     "output_type": "stream",
     "text": [
      "[2, 4, 6, 8, 10, 12, 14, 16, 18, 20]\n"
     ]
    }
   ],
   "source": [
    "l=[]\n",
    "for i in range(1,21):\n",
    "    if i%2==0:\n",
    "        l.append(i)\n",
    "print(l)\n"
   ]
  },
  {
   "cell_type": "code",
   "execution_count": 21,
   "id": "26bd87ae-b490-440e-abaf-b4a8f51bdedf",
   "metadata": {},
   "outputs": [
    {
     "name": "stdout",
     "output_type": "stream",
     "text": [
      "[1, 3, 5, 7, 9, 11, 13, 15, 17, 19]\n"
     ]
    }
   ],
   "source": [
    "l=[]\n",
    "for i in range(0,20):\n",
    "    if i%2==1:\n",
    "        l.append(i)\n",
    "print(l)"
   ]
  },
  {
   "cell_type": "code",
   "execution_count": 22,
   "id": "6dc5bf42-67ed-4f9c-b1fe-673a202e90d3",
   "metadata": {},
   "outputs": [
    {
     "name": "stdout",
     "output_type": "stream",
     "text": [
      "15\n"
     ]
    }
   ],
   "source": [
    "l=[1,2,3,4,5]\n",
    "total=0\n",
    "for i in l:\n",
    "    total+=i\n",
    "print(total)"
   ]
  },
  {
   "cell_type": "code",
   "execution_count": 23,
   "id": "ca76afb5-2d2d-4e3a-b126-4806db4fc7c4",
   "metadata": {},
   "outputs": [
    {
     "name": "stdout",
     "output_type": "stream",
     "text": [
      "The max value in list: 6\n"
     ]
    }
   ],
   "source": [
    "l=[1,2,3,4,5,6]\n",
    "max_no=max(l)\n",
    "print(\"The max value in list:\", max_no)"
   ]
  },
  {
   "cell_type": "code",
   "execution_count": 24,
   "id": "93168e6c-4b97-49ee-a6b8-09a2a2094e24",
   "metadata": {},
   "outputs": [
    {
     "name": "stdout",
     "output_type": "stream",
     "text": [
      "The min value in list: 1\n"
     ]
    }
   ],
   "source": [
    "l=[1,2,3,4,5,6]\n",
    "min_no=min(l)\n",
    "print(\"The min value in list:\", min_no)"
   ]
  },
  {
   "cell_type": "code",
   "execution_count": 27,
   "id": "c8db47a7-28e2-42ef-a3d7-e310dcea9f2a",
   "metadata": {},
   "outputs": [
    {
     "name": "stdout",
     "output_type": "stream",
     "text": [
      "[1, 4, 9, 16, 25, 36, 49, 64, 81, 100]\n"
     ]
    }
   ],
   "source": [
    "l=[]\n",
    "for i in range(1,11):\n",
    "    l.append(i*i)\n",
    "print(l)"
   ]
  },
  {
   "cell_type": "code",
   "execution_count": 30,
   "id": "4abe8494-56a5-4662-96ac-a991523446ac",
   "metadata": {},
   "outputs": [
    {
     "name": "stdout",
     "output_type": "stream",
     "text": [
      "[24, 80, 95, 71, 96, 58, 33, 94, 50, 42]\n"
     ]
    }
   ],
   "source": [
    "import random\n",
    "l=[]\n",
    "n=10\n",
    "for i in range(n):\n",
    "    l.append(random.randint(0,100))\n",
    "print(l)"
   ]
  },
  {
   "cell_type": "code",
   "execution_count": 31,
   "id": "472a6ce5-ccc0-4048-875b-1dcde48d0def",
   "metadata": {},
   "outputs": [
    {
     "name": "stdout",
     "output_type": "stream",
     "text": [
      "List after removing duplicates: [1, 2, 3, 4, 5]\n"
     ]
    }
   ],
   "source": [
    "l = [1, 2, 2, 3, 4, 4, 5]\n",
    "ul= list(set(l))\n",
    "print(\"List after removing duplicates:\", ul)\n"
   ]
  },
  {
   "cell_type": "code",
   "execution_count": 35,
   "id": "a4f2d6c3-940e-406a-9e56-94a9d2f6f260",
   "metadata": {},
   "outputs": [
    {
     "name": "stdout",
     "output_type": "stream",
     "text": [
      "Common Elements [3, 4, 5]\n"
     ]
    }
   ],
   "source": [
    "l1=[1,2,3,4,5]\n",
    "l2=[3,4,5,6,7]\n",
    "common=list(set(l1) & set(l2))\n",
    "print(\"Common Elements\", common)"
   ]
  },
  {
   "cell_type": "code",
   "execution_count": 33,
   "id": "e919f819-d9bc-43f5-967b-b96df47fdbf0",
   "metadata": {},
   "outputs": [
    {
     "name": "stdout",
     "output_type": "stream",
     "text": [
      "Difference List [1, 2]\n"
     ]
    }
   ],
   "source": [
    "l1=[1,2,3,4,5]\n",
    "l2=[3,4,5,6,7]\n",
    "dl=list(set(l1) - set(l2))\n",
    "print(\"Difference List\", dl)"
   ]
  },
  {
   "cell_type": "code",
   "execution_count": 1,
   "id": "167d61b7-0d06-4fc4-b3e9-3d68cdfc67ca",
   "metadata": {},
   "outputs": [
    {
     "name": "stdout",
     "output_type": "stream",
     "text": [
      "Merged List [1, 2, 3, 4, 5, 6, 7]\n"
     ]
    }
   ],
   "source": [
    "l1=[1,2,3]\n",
    "l2=[4,5,6,7]\n",
    "merged_list= l1 +l2\n",
    "print(\"Merged List\",merged_list)"
   ]
  },
  {
   "cell_type": "code",
   "execution_count": 1,
   "id": "893eb937-fc61-4f4c-b18d-50e988043c06",
   "metadata": {},
   "outputs": [
    {
     "name": "stdout",
     "output_type": "stream",
     "text": [
      "[2, 4, 6, 8, 10]\n"
     ]
    }
   ],
   "source": [
    "original_list = [1, 2, 3, 4, 5]\n",
    "doubled_list = [x * 2 for x in original_list]\n",
    "print(doubled_list)"
   ]
  },
  {
   "cell_type": "code",
   "execution_count": 1,
   "id": "33c32224-baa1-4bec-af56-285b05a66052",
   "metadata": {},
   "outputs": [
    {
     "name": "stdout",
     "output_type": "stream",
     "text": [
      "[1, 3, 5]\n"
     ]
    }
   ],
   "source": [
    "original_list = [1, 2, 3, 4, 5]\n",
    "filtered_list=[]\n",
    "for j in original_list:\n",
    "    if(j%2!=0):\n",
    "        filtered_list.append(j)\n",
    "print(filtered_list)"
   ]
  },
  {
   "cell_type": "code",
   "execution_count": 3,
   "id": "edafe548-f9c8-4cfe-85ad-8e2c7711cee6",
   "metadata": {},
   "outputs": [
    {
     "name": "stdout",
     "output_type": "stream",
     "text": [
      "[1, 2, 3, 4, 5]\n"
     ]
    }
   ],
   "source": [
    "strl=[\"1\",\"2\",\"3\",\"4\",\"5\"]\n",
    "intl = [int(x) for x in strl]\n",
    "print(intl)"
   ]
  },
  {
   "cell_type": "code",
   "execution_count": 4,
   "id": "36352425-dbd2-434e-a9be-52f79886c7ce",
   "metadata": {},
   "outputs": [
    {
     "name": "stdout",
     "output_type": "stream",
     "text": [
      "['1', '2', '3', '4', '5']\n"
     ]
    }
   ],
   "source": [
    "intl=[1,2,3,4,5]\n",
    "strl = [str(x) for x in intl]\n",
    "print(strl)"
   ]
  },
  {
   "cell_type": "code",
   "execution_count": 5,
   "id": "22bfd4d6-553c-407e-bf3a-5c77e6f8c973",
   "metadata": {},
   "outputs": [
    {
     "name": "stdout",
     "output_type": "stream",
     "text": [
      "[1, 2, 3, 4, 5, 6, 7, 8]\n"
     ]
    }
   ],
   "source": [
    "nested_list = [[1, 2, 3], [4, 5], [6, 7, 8]]\n",
    "flattened_list = [item for sublist in nested_list for item in sublist]\n",
    "print(flattened_list)"
   ]
  },
  {
   "cell_type": "code",
   "execution_count": 6,
   "id": "6965bf4c-9c40-4c30-bbda-8c4d82e95f40",
   "metadata": {},
   "outputs": [
    {
     "name": "stdout",
     "output_type": "stream",
     "text": [
      "[0, 1, 1, 2, 3, 5, 8, 13, 21, 34]\n"
     ]
    }
   ],
   "source": [
    "fibonacci_list = [0, 1]\n",
    "for _ in range(8):\n",
    "    next_number = fibonacci_list[-1] + fibonacci_list[-2]\n",
    "    fibonacci_list.append(next_number)\n",
    "print(fibonacci_list)"
   ]
  },
  {
   "cell_type": "code",
   "execution_count": 9,
   "id": "56e45564-6691-4401-9870-e86773c174fb",
   "metadata": {},
   "outputs": [
    {
     "name": "stdout",
     "output_type": "stream",
     "text": [
      "No it's not sorted\n"
     ]
    }
   ],
   "source": [
    "list1=[10,2,6,4,5]\n",
    "flag=0\n",
    "list2=list1[:]\n",
    "list2.sort()\n",
    "if(list2==list1):\n",
    "    flag=1\n",
    "if(flag):\n",
    "    print(\"Yes it's sorted\")\n",
    "else:\n",
    "    print(\"No it's not sorted\")"
   ]
  },
  {
   "cell_type": "code",
   "execution_count": 10,
   "id": "b21bc809-056e-48af-9f03-85c328c0383d",
   "metadata": {},
   "outputs": [
    {
     "name": "stdin",
     "output_type": "stream",
     "text": [
      "Enter nth number: 4\n"
     ]
    },
    {
     "name": "stdout",
     "output_type": "stream",
     "text": [
      "Left rotation of list by 4 : [5, 6, 1, 2, 3, 4]\n"
     ]
    }
   ],
   "source": [
    "test=[1,2,3,4,5,6]\n",
    "n= int(input(\"Enter nth number:\"))\n",
    "test= test[n:] + test[:n]\n",
    "print(\"Left rotation of list by\",n,\":\",test)"
   ]
  },
  {
   "cell_type": "code",
   "execution_count": 12,
   "id": "26be39ef-4cdc-45db-919c-1299725ded2e",
   "metadata": {},
   "outputs": [
    {
     "name": "stdin",
     "output_type": "stream",
     "text": [
      "Enter -nth number: -5\n"
     ]
    },
    {
     "name": "stdout",
     "output_type": "stream",
     "text": [
      "Right rotation of list by -5 : [2, 3, 4, 5, 6, 1]\n"
     ]
    }
   ],
   "source": [
    "test=[1,2,3,4,5,6]\n",
    "n= int(input(\"Enter -nth number:\"))\n",
    "test= test[n:] + test[:n]\n",
    "print(\"Right rotation of list by\",n,\":\",test)"
   ]
  },
  {
   "cell_type": "code",
   "execution_count": 15,
   "id": "a63bafec-dbb2-4ac7-8ba9-65c0fadab451",
   "metadata": {},
   "outputs": [
    {
     "name": "stdout",
     "output_type": "stream",
     "text": [
      "[2, 3, 5, 7, 11, 13, 17, 19, 23, 29, 31, 37, 41, 43, 47]\n"
     ]
    }
   ],
   "source": [
    "l5=[]\n",
    "for i in range(2,51):\n",
    "    for j in range(2, int(i**0.5)+1):\n",
    "        if i%j==0:\n",
    "            break\n",
    "    else:\n",
    "        l5.append(i)\n",
    "print(l5)"
   ]
  },
  {
   "cell_type": "code",
   "execution_count": 16,
   "id": "3243a738-2c59-4d2b-8998-2903018091b4",
   "metadata": {},
   "outputs": [
    {
     "name": "stdin",
     "output_type": "stream",
     "text": [
      "Enter Size n: 3\n"
     ]
    },
    {
     "name": "stdout",
     "output_type": "stream",
     "text": [
      "[1, 2, 3]\n",
      "[4, 5, 6]\n",
      "[7, 8, 9]\n"
     ]
    }
   ],
   "source": [
    "my_list=[1,2,3,4,5,6,7,8,9]\n",
    "start=0\n",
    "end= len(my_list)\n",
    "step= int(input(\"Enter Size n:\"))\n",
    "for i in range(start,end,step):\n",
    "    x=i\n",
    "    print(my_list[x:x+step])"
   ]
  },
  {
   "cell_type": "code",
   "execution_count": 21,
   "id": "4fabede9-0cda-4e6a-965b-ab0aa3dcff30",
   "metadata": {},
   "outputs": [
    {
     "name": "stdout",
     "output_type": "stream",
     "text": [
      "Second Largest Number in the List is: 8\n"
     ]
    }
   ],
   "source": [
    "my_list=[3,2,6,9,2,8]\n",
    "new_list= sorted(my_list)\n",
    "print(\"Second Largest Number in the List is:\",new_list[-2])"
   ]
  },
  {
   "cell_type": "code",
   "execution_count": 27,
   "id": "d7261478-d8e9-440f-bbb5-209546ee009d",
   "metadata": {},
   "outputs": [
    {
     "name": "stdout",
     "output_type": "stream",
     "text": [
      "[1, 4, 9, 16, 25]\n"
     ]
    }
   ],
   "source": [
    "lst=[1,2,3,4,5]\n",
    "for i in range(len(lst)):\n",
    "    lst[i]=lst[i]*lst[i]\n",
    "print(lst)"
   ]
  },
  {
   "cell_type": "code",
   "execution_count": 28,
   "id": "d3aeb32c-a995-4089-9156-18fc6daa3656",
   "metadata": {},
   "outputs": [
    {
     "name": "stdout",
     "output_type": "stream",
     "text": [
      "{'a': 0, 'b': 1, 'c': 2, 'd': 3, 'e': 4}\n"
     ]
    }
   ],
   "source": [
    "lst1=['a','b','c','d','e']\n",
    "dict1={}\n",
    "for i in range(len(lst1)):\n",
    "    dict1[lst1[i]]=i\n",
    "print(dict1)"
   ]
  },
  {
   "cell_type": "code",
   "execution_count": 29,
   "id": "cee3acd5-1e0f-4987-82f0-d13cd2d03aac",
   "metadata": {},
   "outputs": [
    {
     "name": "stdout",
     "output_type": "stream",
     "text": [
      "[4, 5, 3, 1, 2]\n"
     ]
    }
   ],
   "source": [
    "import random\n",
    "lst=[1,2,3,4,5]\n",
    "random.shuffle(lst)\n",
    "print (lst)"
   ]
  },
  {
   "cell_type": "code",
   "execution_count": 33,
   "id": "f67b5d31-740f-4f80-abbc-7a7ec8e2ec0b",
   "metadata": {},
   "outputs": [
    {
     "name": "stdout",
     "output_type": "stream",
     "text": [
      "[1, 2, 6, 24, 120, 720, 5040, 40320, 362880, 3628800]\n"
     ]
    }
   ],
   "source": [
    "factorial_numbers = [1] \n",
    "for i in range(2, 11):\n",
    "    factorial_numbers.append(factorial_numbers[-1] * i)\n",
    "print(factorial_numbers)"
   ]
  },
  {
   "cell_type": "code",
   "execution_count": 38,
   "id": "f7a55dce-6397-4b52-a42b-2a023ef6e062",
   "metadata": {},
   "outputs": [
    {
     "name": "stdout",
     "output_type": "stream",
     "text": [
      "Common elements are: [5]\n"
     ]
    }
   ],
   "source": [
    "lst1=[1,2,3,4,5]\n",
    "lst2=[5,6,7,8,9]\n",
    "common= list(set(lst1)& set(lst2))\n",
    "if(common):\n",
    "    print(\"Common elements are:\",common)\n",
    "else:\n",
    "    print(\"No Common Elements\")"
   ]
  },
  {
   "cell_type": "code",
   "execution_count": 39,
   "id": "b6fafd17-508a-4313-96e0-e5d6e7838ce9",
   "metadata": {},
   "outputs": [
    {
     "name": "stdout",
     "output_type": "stream",
     "text": [
      "[]\n"
     ]
    }
   ],
   "source": [
    "lst1=[1,2,3,4,5,6]\n",
    "lst1.clear()\n",
    "print(lst1)"
   ]
  },
  {
   "cell_type": "code",
   "execution_count": 43,
   "id": "76cbb5ef-6b32-4a57-8a18-7fd34ff4f038",
   "metadata": {},
   "outputs": [
    {
     "name": "stdout",
     "output_type": "stream",
     "text": [
      "New List: [0, 0, 0, 0, 1, 2, 3]\n"
     ]
    }
   ],
   "source": [
    "lst1=[-2,-1,-3,0,1,2,3]\n",
    "new_lst = [max(0, num) for num in lst1]\n",
    "print(\"New List:\",new_lst)\n"
   ]
  },
  {
   "cell_type": "code",
   "execution_count": 44,
   "id": "c2031066-cb31-48bd-ba0f-aa642cd02bd7",
   "metadata": {},
   "outputs": [
    {
     "name": "stdin",
     "output_type": "stream",
     "text": [
      "Enter a string aayush is a smart boy\n"
     ]
    },
    {
     "name": "stdout",
     "output_type": "stream",
     "text": [
      "['aayush', 'is', 'a', 'smart', 'boy']\n"
     ]
    }
   ],
   "source": [
    "b=str(input(\"Enter a string\"))\n",
    "bst=b.split(\" \")\n",
    "print(bst)"
   ]
  },
  {
   "cell_type": "code",
   "execution_count": 46,
   "id": "a5f552b8-d792-4bed-89d3-5975b393a965",
   "metadata": {},
   "outputs": [
    {
     "name": "stdout",
     "output_type": "stream",
     "text": [
      "aayush is a smart boy\n"
     ]
    }
   ],
   "source": [
    "print(\" \".join(bst))"
   ]
  },
  {
   "cell_type": "code",
   "execution_count": 47,
   "id": "1d07e4f6-6b4a-47eb-a0ec-84f19ff3fd0f",
   "metadata": {},
   "outputs": [
    {
     "name": "stdin",
     "output_type": "stream",
     "text": [
      "Enter number: 7\n"
     ]
    },
    {
     "name": "stdout",
     "output_type": "stream",
     "text": [
      "[2, 4, 8, 16, 32, 64, 128]\n"
     ]
    }
   ],
   "source": [
    "n= int(input(\"Enter number:\"))\n",
    "power=[]\n",
    "for i in range(1,n+1):\n",
    "    power.append(2**i)\n",
    "print(power)"
   ]
  },
  {
   "cell_type": "code",
   "execution_count": 50,
   "id": "46602362-134b-49e9-8732-d4bcdd8b29e8",
   "metadata": {},
   "outputs": [
    {
     "name": "stdout",
     "output_type": "stream",
     "text": [
      "Original List: ['aayush', 'is', 'a', 'smart', 'boy']\n",
      "longest word: aayush\n"
     ]
    }
   ],
   "source": [
    "print(\"Original List:\",bst)\n",
    "max_len=-1\n",
    "for i in bst:\n",
    "    if len(i)>max_len:\n",
    "        max_len= len(i)\n",
    "        res=i\n",
    "print(\"longest word:\",res)"
   ]
  },
  {
   "cell_type": "code",
   "execution_count": 51,
   "id": "eaf5ea13-1d17-424c-a381-36e4da930486",
   "metadata": {},
   "outputs": [
    {
     "name": "stdout",
     "output_type": "stream",
     "text": [
      "Original List: ['aayush', 'is', 'a', 'smart', 'boy']\n",
      "Shortest word: a\n"
     ]
    }
   ],
   "source": [
    "print(\"Original List:\",bst)\n",
    "min_len=100\n",
    "for i in bst:\n",
    "    if len(i)<min_len:\n",
    "        min_len= len(i)\n",
    "        res=i\n",
    "print(\"Shortest word:\",res)"
   ]
  },
  {
   "cell_type": "code",
   "execution_count": 60,
   "id": "eef88a5e-4cfc-4c9f-a08a-bbbad7c61d7c",
   "metadata": {},
   "outputs": [
    {
     "name": "stdin",
     "output_type": "stream",
     "text": [
      "Enter Number: 7\n"
     ]
    },
    {
     "name": "stdout",
     "output_type": "stream",
     "text": [
      "[1, 3, 6, 10, 15, 21, 28]\n"
     ]
    }
   ],
   "source": [
    "n= int(input(\"Enter Number:\"))\n",
    "tlst=[]\n",
    "for j in range(1,n+1):\n",
    "    tlst.append(j*(j+1)//2)\n",
    "print(tlst)"
   ]
  },
  {
   "cell_type": "code",
   "execution_count": 64,
   "id": "cd1a27de-e87f-4efc-8d4e-ac64179a7bd6",
   "metadata": {},
   "outputs": [
    {
     "name": "stdout",
     "output_type": "stream",
     "text": [
      "Original List [1, 2, 3, 4, 5, 6] Second List [2, 4, 6]\n",
      "Yes it's a subsequent list\n"
     ]
    }
   ],
   "source": [
    "list1=[1,2,3,4,5,6]\n",
    "list2=[2,4,6]\n",
    "print(\"Original List\",list1,\"Second List\",list2)\n",
    "flag=0\n",
    "if(all(a in list1 for a in list2)):\n",
    "    flag=1\n",
    "if(flag):\n",
    "    print(\"Yes it's a subsequent list\")\n",
    "else:\n",
    "    print(\"No it's not a subsequent list\")"
   ]
  },
  {
   "cell_type": "code",
   "execution_count": 66,
   "id": "4b61d157-77bc-42e4-93d4-5f359033708e",
   "metadata": {},
   "outputs": [
    {
     "name": "stdout",
     "output_type": "stream",
     "text": [
      "Original List: [1, 2, 3, 4, 5, 6]\n"
     ]
    },
    {
     "name": "stdin",
     "output_type": "stream",
     "text": [
      "Enter 1st Index: 2\n",
      "Enter 2nd Index: 4\n"
     ]
    },
    {
     "name": "stdout",
     "output_type": "stream",
     "text": [
      "List after swapping: [1, 2, 5, 4, 3, 6]\n"
     ]
    }
   ],
   "source": [
    "print(\"Original List:\",list1)\n",
    "pos1=int(input(\"Enter 1st Index:\"))\n",
    "pos2=int(input(\"Enter 2nd Index:\"))\n",
    "if 0 <= pos1 < len(list1) and 0 <= pos2 < len(list1):\n",
    "    list1[pos1], list1[pos2] = list1[pos2], list1[pos1]\n",
    "    print(\"List after swapping:\", list1)\n",
    "else:\n",
    "    print(\"Invalid indices. Please ensure indices are within the range of the list.\")"
   ]
  },
  {
   "cell_type": "code",
   "execution_count": 70,
   "id": "55baeb77-2539-48cb-96df-90370d33c4cd",
   "metadata": {},
   "outputs": [
    {
     "name": "stdout",
     "output_type": "stream",
     "text": [
      "(1, 2, 3, 4, 5)\n"
     ]
    }
   ],
   "source": [
    "my_tuple = (1, 2, 3, 4, 5)\n",
    "print(my_tuple)"
   ]
  },
  {
   "cell_type": "code",
   "execution_count": 75,
   "id": "984fb137-c3eb-44e2-9fe7-71bf578a38cd",
   "metadata": {},
   "outputs": [
    {
     "name": "stdout",
     "output_type": "stream",
     "text": [
      "2\n"
     ]
    }
   ],
   "source": [
    "print(my_tuple.index(3))"
   ]
  },
  {
   "cell_type": "code",
   "execution_count": 76,
   "id": "a4035d21-ffca-4803-88b3-36e10217c4ba",
   "metadata": {},
   "outputs": [
    {
     "name": "stdout",
     "output_type": "stream",
     "text": [
      "Length of tuple is 5\n"
     ]
    }
   ],
   "source": [
    "tuplen=0\n",
    "for _ in my_tuple:\n",
    "    tuplen+=1\n",
    "print(\"Length of tuple is\", tuplen)"
   ]
  },
  {
   "cell_type": "code",
   "execution_count": 86,
   "id": "bd1f56a2-d037-4c2a-a574-d7915d104dee",
   "metadata": {},
   "outputs": [
    {
     "name": "stdout",
     "output_type": "stream",
     "text": [
      "(1, 2, 3, 4, 5)\n"
     ]
    },
    {
     "name": "stdin",
     "output_type": "stream",
     "text": [
      "Enter Element you want to count: 4\n"
     ]
    },
    {
     "name": "stdout",
     "output_type": "stream",
     "text": [
      "1\n"
     ]
    }
   ],
   "source": [
    "print(my_tuple)\n",
    "n= int(input(\"Enter Element you want to count:\"))\n",
    "print(my_tuple.count(n))"
   ]
  },
  {
   "cell_type": "code",
   "execution_count": 87,
   "id": "9f26ed5e-fafa-4600-8657-336700a3f7de",
   "metadata": {},
   "outputs": [
    {
     "name": "stdout",
     "output_type": "stream",
     "text": [
      "0\n"
     ]
    }
   ],
   "source": [
    "my_tuple=(3,4,5,6,7,8)\n",
    "print(my_tuple.index(3))"
   ]
  },
  {
   "cell_type": "code",
   "execution_count": 90,
   "id": "f3f855aa-8f0e-48f6-889a-8891413aad3c",
   "metadata": {},
   "outputs": [
    {
     "name": "stdin",
     "output_type": "stream",
     "text": [
      "Enter Element from Tuple: 4\n"
     ]
    },
    {
     "name": "stdout",
     "output_type": "stream",
     "text": [
      "Element Exists\n"
     ]
    }
   ],
   "source": [
    "my_tuple=(3,4,5,6,7,8)\n",
    "n=int(input(\"Enter Element from Tuple:\"))\n",
    "if(my_tuple.count(n)==1):\n",
    "    print(\"Element Exists\")\n",
    "else:\n",
    "    print(\"Element dosen't exist\")"
   ]
  },
  {
   "cell_type": "code",
   "execution_count": 91,
   "id": "6e3d0594-7a18-4ce1-8dcb-e0d7bed30e73",
   "metadata": {},
   "outputs": [
    {
     "name": "stdout",
     "output_type": "stream",
     "text": [
      "[3, 4, 5, 6, 7, 8]\n"
     ]
    }
   ],
   "source": [
    "new_list=list(my_tuple)\n",
    "print(new_list)"
   ]
  },
  {
   "cell_type": "code",
   "execution_count": 93,
   "id": "85aefe32-0728-4657-b4a2-03591ec0168c",
   "metadata": {},
   "outputs": [
    {
     "name": "stdout",
     "output_type": "stream",
     "text": [
      "(3, 4, 5, 6, 7, 8)\n"
     ]
    }
   ],
   "source": [
    "new_tuple= tuple(new_list)\n",
    "print(new_tuple)"
   ]
  },
  {
   "cell_type": "code",
   "execution_count": 3,
   "id": "72ba0507-c076-4ba6-82a3-6ca4e1ce078e",
   "metadata": {},
   "outputs": [
    {
     "name": "stdout",
     "output_type": "stream",
     "text": [
      "Elements in tuples: 3 4 5 6 7 8\n"
     ]
    }
   ],
   "source": [
    "new_tuple=(3, 4, 5, 6, 7, 8)\n",
    "a,b,c,d,e,f= new_tuple\n",
    "print(\"Elements in tuples:\",a,b,c,d,e,f)"
   ]
  },
  {
   "cell_type": "code",
   "execution_count": 6,
   "id": "0dc12f4f-307c-4cae-bfb8-c23b40da6d4b",
   "metadata": {},
   "outputs": [
    {
     "name": "stdout",
     "output_type": "stream",
     "text": [
      "(2, 4, 6, 8, 10)\n"
     ]
    }
   ],
   "source": [
    "new_tupl=()\n",
    "new_lst1= list(new_tupl)\n",
    "for i in range(1,11):\n",
    "    if(i%2==0):\n",
    "        new_lst1.append(i)\n",
    "new_tupl=tuple(new_lst1)\n",
    "print(new_tupl)"
   ]
  },
  {
   "cell_type": "code",
   "execution_count": 7,
   "id": "b4421f83-ad73-4852-9a36-1b1079960d28",
   "metadata": {},
   "outputs": [
    {
     "name": "stdout",
     "output_type": "stream",
     "text": [
      "(1, 3, 5, 7, 9)\n"
     ]
    }
   ],
   "source": [
    "new_tupl=()\n",
    "new_lst1= list(new_tupl)\n",
    "for i in range(1,10):\n",
    "    if(i%2!=0):\n",
    "        new_lst1.append(i)\n",
    "new_tupl=tuple(new_lst1)\n",
    "print(new_tupl)"
   ]
  },
  {
   "cell_type": "code",
   "execution_count": 8,
   "id": "3768000d-c1ce-4017-9f8d-a2200c979677",
   "metadata": {},
   "outputs": [
    {
     "name": "stdout",
     "output_type": "stream",
     "text": [
      "(1, 2, 3, 4, 5, 6)\n"
     ]
    }
   ],
   "source": [
    "tupl1=(1,2,3)\n",
    "tupl2=(4,5,6)\n",
    "tupl_new= tupl1 + tupl2\n",
    "print(tupl_new)"
   ]
  },
  {
   "cell_type": "code",
   "execution_count": 9,
   "id": "4b8e09c5-3387-4258-8727-14388416b6f6",
   "metadata": {},
   "outputs": [
    {
     "name": "stdout",
     "output_type": "stream",
     "text": [
      "(1, 2, 3, 4, 5, 6, 1, 2, 3, 4, 5, 6, 1, 2, 3, 4, 5, 6)\n"
     ]
    }
   ],
   "source": [
    "nt=tupl_new*3\n",
    "print(nt)"
   ]
  },
  {
   "cell_type": "code",
   "execution_count": 13,
   "id": "b593abe7-94cc-4b19-875b-66b798e22e42",
   "metadata": {},
   "outputs": [
    {
     "name": "stdout",
     "output_type": "stream",
     "text": [
      "Tuple is empty\n"
     ]
    }
   ],
   "source": [
    "nt=()\n",
    "if(len(nt)==0):\n",
    "    print(\"Tuple is empty\")\n",
    "else:\n",
    "    print(\"Tuple has elements\")"
   ]
  },
  {
   "cell_type": "code",
   "execution_count": 18,
   "id": "0d514be6-2058-4f92-be85-889e43da5c94",
   "metadata": {},
   "outputs": [
    {
     "name": "stdout",
     "output_type": "stream",
     "text": [
      "(0, 1, 2, 3, 4, (5, 6, 7), 8, 9)\n"
     ]
    }
   ],
   "source": [
    "nt=(0,1,2,3,4,(5,6,7),8,9)\n",
    "print(nt)"
   ]
  },
  {
   "cell_type": "code",
   "execution_count": 20,
   "id": "6adc5fbf-56a0-45bb-bbb2-f901457ae82d",
   "metadata": {},
   "outputs": [
    {
     "data": {
      "text/plain": [
       "0"
      ]
     },
     "execution_count": 20,
     "metadata": {},
     "output_type": "execute_result"
    }
   ],
   "source": [
    "nt.index(0)"
   ]
  },
  {
   "cell_type": "code",
   "execution_count": 21,
   "id": "4da86c75-e86f-4229-bc94-d195fba83e56",
   "metadata": {},
   "outputs": [
    {
     "name": "stdout",
     "output_type": "stream",
     "text": [
      "10\n"
     ]
    }
   ],
   "source": [
    "nt1=(10)\n",
    "print(nt1)"
   ]
  },
  {
   "cell_type": "code",
   "execution_count": 27,
   "id": "7a776a05-c1e6-473c-a17f-3e1939828dc8",
   "metadata": {},
   "outputs": [
    {
     "name": "stdout",
     "output_type": "stream",
     "text": [
      "Tuples are not equal\n"
     ]
    }
   ],
   "source": [
    "nt2=(1,2)\n",
    "if(nt1==nt2):\n",
    "    print(\"Tuples are equal\")\n",
    "else:\n",
    "    print(\"Tuples are not equal\")"
   ]
  },
  {
   "cell_type": "code",
   "execution_count": 29,
   "id": "16db059a-c076-4fc8-8b92-2e2abd980828",
   "metadata": {},
   "outputs": [],
   "source": [
    "del(nt2)"
   ]
  },
  {
   "cell_type": "code",
   "execution_count": 30,
   "id": "e46596c2-6e82-4921-a5d1-a897f375ef86",
   "metadata": {},
   "outputs": [
    {
     "name": "stdout",
     "output_type": "stream",
     "text": [
      "(3, 4, 5, 6)\n"
     ]
    }
   ],
   "source": [
    "nt=(1,2,3,4,5,6,7,8,9)\n",
    "print(nt[2:6])"
   ]
  },
  {
   "cell_type": "code",
   "execution_count": 31,
   "id": "f2833067-68d6-42be-b85b-d84b229b69b4",
   "metadata": {},
   "outputs": [
    {
     "name": "stdout",
     "output_type": "stream",
     "text": [
      "9\n"
     ]
    }
   ],
   "source": [
    "max_value= max(nt)\n",
    "print(max_value)"
   ]
  },
  {
   "cell_type": "code",
   "execution_count": 32,
   "id": "90857fba-5b53-453f-9d41-06b77cb3e81c",
   "metadata": {},
   "outputs": [
    {
     "name": "stdout",
     "output_type": "stream",
     "text": [
      "1\n"
     ]
    }
   ],
   "source": [
    "min_value= min(nt)\n",
    "print(min_value)"
   ]
  },
  {
   "cell_type": "code",
   "execution_count": 33,
   "id": "2152e11a-e41f-42a6-8b25-ffa705b10729",
   "metadata": {},
   "outputs": [
    {
     "name": "stdin",
     "output_type": "stream",
     "text": [
      "Enter a String aayush\n"
     ]
    },
    {
     "name": "stdout",
     "output_type": "stream",
     "text": [
      "('a', 'a', 'y', 'u', 's', 'h')\n"
     ]
    }
   ],
   "source": [
    "str1= str(input(\"Enter a String\"))\n",
    "tul=tuple(str1)\n",
    "print(tul)"
   ]
  },
  {
   "cell_type": "code",
   "execution_count": 37,
   "id": "385d4b3a-a584-40a7-ae97-846c94059105",
   "metadata": {},
   "outputs": [
    {
     "name": "stdout",
     "output_type": "stream",
     "text": [
      "aayush\n"
     ]
    }
   ],
   "source": [
    "new_str1=\"\".join(tul)\n",
    "print(new_str1)"
   ]
  },
  {
   "cell_type": "code",
   "execution_count": 38,
   "id": "1e516fcb-a2eb-47b1-b8d3-fe6067c80a3c",
   "metadata": {},
   "outputs": [
    {
     "name": "stdout",
     "output_type": "stream",
     "text": [
      "(1, 'aayush', 99)\n"
     ]
    }
   ],
   "source": [
    "mtul=(1,\"aayush\",99)\n",
    "print(mtul)"
   ]
  },
  {
   "cell_type": "code",
   "execution_count": 1,
   "id": "24fcac9d-4272-4a97-bf0b-ea19166a97fb",
   "metadata": {},
   "outputs": [
    {
     "name": "stdout",
     "output_type": "stream",
     "text": [
      "Tuples are Identical\n"
     ]
    }
   ],
   "source": [
    "nt1=(1,2,3)\n",
    "nt2=(1,2,3)\n",
    "if(nt1==nt2):\n",
    "    print(\"Tuples are Identical\")"
   ]
  },
  {
   "cell_type": "code",
   "execution_count": 16,
   "id": "e089cb81-7ab1-43d5-bf92-00264b5d3c36",
   "metadata": {},
   "outputs": [
    {
     "name": "stdout",
     "output_type": "stream",
     "text": [
      "Sorted set (2, 5, 6, 7, 8, 9)\n"
     ]
    }
   ],
   "source": [
    "nt3=(6,2,9,7,5,8)\n",
    "lt3=list(nt3)\n",
    "lt3.sort()\n",
    "lt3=tuple(lt3)\n",
    "print(\"Sorted set\",lt3)"
   ]
  },
  {
   "cell_type": "code",
   "execution_count": 22,
   "id": "16766605-04c0-4679-b1c0-54a667495fc7",
   "metadata": {},
   "outputs": [
    {
     "name": "stdout",
     "output_type": "stream",
     "text": [
      "Original Tuple: (6, 2, 9, 7, 5, 8)\n",
      "Converted Tuple: ('6', '2', '9', '7', '5', '8')\n"
     ]
    }
   ],
   "source": [
    "original_tuple = (6, 2, 9, 7, 5, 8)\n",
    "converted_tuple = tuple(str(i) for i in original_tuple)\n",
    "print(\"Original Tuple:\", original_tuple)\n",
    "print(\"Converted Tuple:\", converted_tuple)"
   ]
  },
  {
   "cell_type": "code",
   "execution_count": 23,
   "id": "84925502-bedc-41c2-bf9b-8a5e199e0a4f",
   "metadata": {},
   "outputs": [
    {
     "name": "stdout",
     "output_type": "stream",
     "text": [
      "Original Tuple: ('6', '2', '9', '7', '5', '8')\n",
      "Converted Tuple: (6, 2, 9, 7, 5, 8)\n"
     ]
    }
   ],
   "source": [
    "original_tuple = ('6', '2', '9', '7', '5', '8')\n",
    "converted_tuple = tuple(int(i) for i in original_tuple)\n",
    "print(\"Original Tuple:\", original_tuple)\n",
    "print(\"Converted Tuple:\", converted_tuple)"
   ]
  },
  {
   "cell_type": "code",
   "execution_count": 30,
   "id": "2c02207f-2b33-42a7-8697-dbefc9d90459",
   "metadata": {},
   "outputs": [
    {
     "name": "stdout",
     "output_type": "stream",
     "text": [
      "Tuple 1: (1, 2, 3)\n",
      "Tuple 2: (4, 5, 6)\n",
      "Merged Tuple: (1, 2, 3, 4, 5, 6)\n"
     ]
    }
   ],
   "source": [
    "tuple1 = (1, 2, 3)\n",
    "tuple2 = (4, 5, 6)\n",
    "\n",
    "merged_tuple = tuple1 + tuple2\n",
    "\n",
    "print(\"Tuple 1:\", tuple1)\n",
    "print(\"Tuple 2:\", tuple2)\n",
    "print(\"Merged Tuple:\", merged_tuple)\n"
   ]
  },
  {
   "cell_type": "code",
   "execution_count": 32,
   "id": "208fc47a-9279-48af-bd11-b9cd12e8a74d",
   "metadata": {},
   "outputs": [
    {
     "name": "stdout",
     "output_type": "stream",
     "text": [
      "Nested Tuple: (1, 2, (3, 4), 5, 6, (7, 8))\n",
      "Flattened Tuple: (1, 2, 3, 4, 5, 6, 7, 8)\n"
     ]
    }
   ],
   "source": [
    "nested_tuple = (1, 2, (3, 4), 5, 6, (7, 8))\n",
    "\n",
    "flattened_tuple = tuple(item for sublist in nested_tuple for item in (sublist if isinstance(sublist, tuple) else (sublist,)))\n",
    "\n",
    "print(\"Nested Tuple:\", nested_tuple)\n",
    "print(\"Flattened Tuple:\", flattened_tuple)\n"
   ]
  },
  {
   "cell_type": "code",
   "execution_count": 38,
   "id": "5faa50fa-8247-4fe0-b8e1-21222385a9be",
   "metadata": {},
   "outputs": [
    {
     "name": "stdout",
     "output_type": "stream",
     "text": [
      "Tuple of the first 5 prime numbers: (2, 3, 5, 7)\n"
     ]
    }
   ],
   "source": [
    "primes = []\n",
    "for i in range(2, 11): \n",
    "    is_prime = True\n",
    "    for j in range(2, int(i ** 0.5) + 1):\n",
    "        if i % j == 0:\n",
    "            is_prime = False\n",
    "            break\n",
    "    if is_prime:\n",
    "        primes.append(i)\n",
    "        \n",
    "prime= tuple(primes)\n",
    "print(\"Tuple of the first 5 prime numbers:\", prime)\n"
   ]
  },
  {
   "cell_type": "code",
   "execution_count": 40,
   "id": "93419e77-b6da-45a5-bcbd-72d2d3498528",
   "metadata": {},
   "outputs": [
    {
     "name": "stdout",
     "output_type": "stream",
     "text": [
      "Tuple is palinedrome\n"
     ]
    }
   ],
   "source": [
    "tuple1=(0,1,2,1,0)\n",
    "tuple2= tuple1[::-1]\n",
    "if(tuple1==tuple2):\n",
    "    print(\"Tuple is palinedrome\")\n",
    "else:\n",
    "    print(\"Tuple is not palinedrome\")"
   ]
  },
  {
   "cell_type": "code",
   "execution_count": 42,
   "id": "401cabcb-247b-456e-ab1e-5f0e7421f37c",
   "metadata": {},
   "outputs": [
    {
     "name": "stdout",
     "output_type": "stream",
     "text": [
      "(1, 4, 9, 16, 25)\n"
     ]
    }
   ],
   "source": [
    "sqtupl=[]\n",
    "for x in range(1,6):\n",
    "    sqtupl.append(x**2)\n",
    "print(tuple(sqtupl))"
   ]
  },
  {
   "cell_type": "code",
   "execution_count": 2,
   "id": "11ba450e-edfb-4e09-a62f-e34ffac821ca",
   "metadata": {},
   "outputs": [
    {
     "name": "stdout",
     "output_type": "stream",
     "text": [
      "Tuple of odd numbers: (1, 3, 5, 7, 9)\n"
     ]
    }
   ],
   "source": [
    "sqt = [1, 2, 3, 4, 5, 6, 7, 8, 9]\n",
    "newt = tuple(x for x in sqt if x % 2 != 0)\n",
    "print(\"Tuple of odd numbers:\", newt)"
   ]
  },
  {
   "cell_type": "code",
   "execution_count": 6,
   "id": "15fbb0c5-3dde-4770-a01a-89284d148aad",
   "metadata": {},
   "outputs": [
    {
     "name": "stdout",
     "output_type": "stream",
     "text": [
      "(2, 4, 6, 8, 10)\n"
     ]
    }
   ],
   "source": [
    "x=(1,2,3,4,5)\n",
    "newt=tuple(x*2 for x in x)\n",
    "print(newt)\n"
   ]
  },
  {
   "cell_type": "code",
   "execution_count": 7,
   "id": "09ccf9c2-1412-4c6b-a5eb-3c6e9238ebd5",
   "metadata": {},
   "outputs": [
    {
     "name": "stdout",
     "output_type": "stream",
     "text": [
      "(10, 9, 1, 8, 9)\n"
     ]
    }
   ],
   "source": [
    "import random\n",
    "randtupl=tuple(random.randint(1,10) for _ in range(5) )\n",
    "print(randtupl)"
   ]
  },
  {
   "cell_type": "code",
   "execution_count": 10,
   "id": "ad04e5a9-3294-4f87-84d2-edd8c6854dc2",
   "metadata": {},
   "outputs": [
    {
     "name": "stdout",
     "output_type": "stream",
     "text": [
      "Tuple is sorted\n"
     ]
    }
   ],
   "source": [
    "tuple1=(1,2,3,4,5)\n",
    "if(tuple1== tuple(sorted(tuple1))):\n",
    "    print(\"Tuple is sorted\")\n",
    "else:\n",
    "    print(\"Tuple is not Sorted\")"
   ]
  },
  {
   "cell_type": "code",
   "execution_count": 11,
   "id": "a1bf2f14-2ac4-409e-9d6c-3bda26ab2096",
   "metadata": {},
   "outputs": [
    {
     "name": "stdin",
     "output_type": "stream",
     "text": [
      "Enter N Value: 3\n"
     ]
    },
    {
     "name": "stdout",
     "output_type": "stream",
     "text": [
      "Rotated tuple: (4, 5, 1, 2, 3)\n"
     ]
    }
   ],
   "source": [
    "tuple1=(1,2,3,4,5)\n",
    "n=int(input(\"Enter N Value:\"))\n",
    "rtupl= tuple1[n:] + tuple1[:n]\n",
    "print(\"Rotated tuple:\",rtupl)"
   ]
  },
  {
   "cell_type": "code",
   "execution_count": 12,
   "id": "f45baa7c-bcfe-4e11-a9c6-23380aca1800",
   "metadata": {},
   "outputs": [
    {
     "name": "stdin",
     "output_type": "stream",
     "text": [
      "Enter N Value: 3\n"
     ]
    },
    {
     "name": "stdout",
     "output_type": "stream",
     "text": [
      "Rotated tuple: (3, 4, 5, 1, 2)\n"
     ]
    }
   ],
   "source": [
    "tuple1=(1,2,3,4,5)\n",
    "n=int(input(\"Enter N Value:\"))\n",
    "rtupl= tuple1[-n:] + tuple1[:-n]\n",
    "print(\"Rotated tuple:\",rtupl)"
   ]
  },
  {
   "cell_type": "code",
   "execution_count": 13,
   "id": "1a9f4fd0-c69f-4bc6-8460-8357820599ef",
   "metadata": {},
   "outputs": [
    {
     "name": "stdout",
     "output_type": "stream",
     "text": [
      "Tuple of the first 5 Fibonacci numbers: (0, 1, 1, 2, 3)\n"
     ]
    }
   ],
   "source": [
    "fibonacci_numbers = [0, 1]\n",
    "\n",
    "for _ in range(3):\n",
    "    next_fibonacci = sum(fibonacci_numbers[-2:])\n",
    "    fibonacci_numbers.append(next_fibonacci)\n",
    "\n",
    "fibonacci_tuple = tuple(fibonacci_numbers)\n",
    "\n",
    "print(\"Tuple of the first 5 Fibonacci numbers:\", fibonacci_tuple)\n"
   ]
  },
  {
   "cell_type": "code",
   "execution_count": 15,
   "id": "f994779b-18c5-407f-a60d-ab86e8c7d000",
   "metadata": {},
   "outputs": [
    {
     "name": "stdin",
     "output_type": "stream",
     "text": [
      "Enter elements separated by spaces:  1 2 3 4 5\n"
     ]
    },
    {
     "name": "stdout",
     "output_type": "stream",
     "text": [
      "Tuple created from user input: (1, 2, 3, 4, 5)\n"
     ]
    }
   ],
   "source": [
    "user_input = input(\"Enter elements separated by spaces: \")\n",
    "input_list = user_input.split()\n",
    "\n",
    "user_tuple = ()\n",
    "\n",
    "for element in input_list:\n",
    "    if element.isdigit():\n",
    "        user_tuple += (int(element),)\n",
    "    else:\n",
    "        print(f\"Invalid input: '{element}' is not a valid integer.\")\n",
    "\n",
    "print(\"Tuple created from user input:\", user_tuple)\n"
   ]
  },
  {
   "cell_type": "code",
   "execution_count": 16,
   "id": "dc0d749d-4ed8-428f-b739-00a04d633213",
   "metadata": {},
   "outputs": [
    {
     "name": "stdout",
     "output_type": "stream",
     "text": [
      "Original Tuple: (1, 2, 3, 4, 5)\n",
      "Tuple after swapping elements: (1, 4, 3, 2, 5)\n"
     ]
    }
   ],
   "source": [
    "my_tuple = (1, 2, 3, 4, 5)\n",
    "index1, index2 = 1, 3 \n",
    "tuple_list = list(my_tuple)\n",
    "tuple_list[index1], tuple_list[index2] = tuple_list[index2], tuple_list[index1]\n",
    "swapped_tuple = tuple(tuple_list)\n",
    "print(\"Original Tuple:\", my_tuple)\n",
    "print(\"Tuple after swapping elements:\", swapped_tuple)"
   ]
  },
  {
   "cell_type": "code",
   "execution_count": 18,
   "id": "4fe13324-0652-4540-9916-dfd0c96299a3",
   "metadata": {},
   "outputs": [
    {
     "name": "stdout",
     "output_type": "stream",
     "text": [
      "Original Tuple: (1, 2, 3, 4, 5)\n",
      "Reversed Tuple: (5, 4, 3, 2, 1)\n"
     ]
    }
   ],
   "source": [
    "my_tuple = (1, 2, 3, 4, 5)\n",
    "my_list = list(my_tuple)\n",
    "my_list.reverse() \n",
    "new_tupl = tuple(my_list)\n",
    "print(\"Original Tuple:\", my_tuple)\n",
    "print(\"Reversed Tuple:\", new_tupl)"
   ]
  },
  {
   "cell_type": "code",
   "execution_count": 19,
   "id": "0169ebca-a973-488b-a00e-4501bcdc39a5",
   "metadata": {},
   "outputs": [
    {
     "name": "stdin",
     "output_type": "stream",
     "text": [
      "Enter number: 5\n"
     ]
    },
    {
     "name": "stdout",
     "output_type": "stream",
     "text": [
      "(2, 4, 8, 16, 32)\n"
     ]
    }
   ],
   "source": [
    "n= int(input(\"Enter number:\"))\n",
    "power=[]\n",
    "for i in range(1,n+1):\n",
    "    power.append(2**i)\n",
    "print(tuple(power))"
   ]
  },
  {
   "cell_type": "code",
   "execution_count": 22,
   "id": "a3e4fa01-3479-485c-aa5d-147a4cb1d5f9",
   "metadata": {},
   "outputs": [
    {
     "name": "stdout",
     "output_type": "stream",
     "text": [
      "Original Tuple: ('aayush', 'is', 'a', 'smart', 'boy')\n",
      "longest word: aayush\n"
     ]
    }
   ],
   "source": [
    "otu=(\"aayush\",\"is\",\"a\",\"smart\",\"boy\")\n",
    "print(\"Original Tuple:\",otu)\n",
    "max_len=-1\n",
    "for i in otu:\n",
    "    if len(i)>max_len:\n",
    "        max_len= len(i)\n",
    "        res=i\n",
    "print(\"longest word:\",res)"
   ]
  },
  {
   "cell_type": "code",
   "execution_count": 25,
   "id": "c2c27ff1-f878-42d9-9264-c2dea624af1c",
   "metadata": {},
   "outputs": [
    {
     "name": "stdout",
     "output_type": "stream",
     "text": [
      "Original Tuple: ('aayush', 'is', 'a', 'smart', 'boy')\n",
      "Shortest word: a\n"
     ]
    }
   ],
   "source": [
    "otu = (\"aayush\", \"is\", \"a\", \"smart\", \"boy\")\n",
    "print(\"Original Tuple:\", otu)\n",
    "\n",
    "min_len = 100\n",
    "res = \"\"\n",
    "\n",
    "for word in otu:\n",
    "    if len(word) < min_len:\n",
    "        min_len = len(word)\n",
    "        res = word\n",
    "\n",
    "print(\"Shortest word:\", res)\n"
   ]
  },
  {
   "cell_type": "code",
   "execution_count": 26,
   "id": "ed529fb5-6463-4532-b18a-7a02a62cbcf7",
   "metadata": {},
   "outputs": [
    {
     "name": "stdin",
     "output_type": "stream",
     "text": [
      "Enter Number: 5\n"
     ]
    },
    {
     "name": "stdout",
     "output_type": "stream",
     "text": [
      "(1, 3, 6, 10, 15)\n"
     ]
    }
   ],
   "source": [
    "n= int(input(\"Enter Number:\"))\n",
    "tlst=[]\n",
    "for j in range(1,n+1):\n",
    "    tlst.append(j*(j+1)//2)\n",
    "print(tuple(tlst))"
   ]
  },
  {
   "cell_type": "code",
   "execution_count": 28,
   "id": "e4dfc5a9-20b7-49f2-a247-777eeacbed31",
   "metadata": {},
   "outputs": [
    {
     "name": "stdout",
     "output_type": "stream",
     "text": [
      "Original Tuple (1, 2, 3, 4, 5, 6) Second Tuple (2, 4, 6)\n",
      "Yes it's a subsequent Tuple\n"
     ]
    }
   ],
   "source": [
    "list1=(1,2,3,4,5,6)\n",
    "list2=(2,4,6)\n",
    "print(\"Original Tuple\",list1,\"Second Tuple\",list2)\n",
    "flag=0\n",
    "if(all(a in list1 for a in list2)):\n",
    "    flag=1\n",
    "if(flag):\n",
    "    print(\"Yes it's a subsequent Tuple\")\n",
    "else:\n",
    "    print(\"No it's not a subsequent Tuple\")"
   ]
  },
  {
   "cell_type": "code",
   "execution_count": 29,
   "id": "ba6d94fa-2c99-40df-8af5-a0195a3d8567",
   "metadata": {},
   "outputs": [
    {
     "name": "stdout",
     "output_type": "stream",
     "text": [
      "Tuple of alternating 1s and 0s: (0, 1, 0, 1, 0, 1)\n"
     ]
    }
   ],
   "source": [
    "n = 6 \n",
    "alternating_tuple = tuple((i % 2) for i in range(n))\n",
    "print(\"Tuple of alternating 1s and 0s:\", alternating_tuple)"
   ]
  },
  {
   "cell_type": "code",
   "execution_count": 1,
   "id": "03663d7a-b0b3-41fc-b7cd-e4be97da704b",
   "metadata": {},
   "outputs": [
    {
     "name": "stdout",
     "output_type": "stream",
     "text": [
      "{1, 2, 3, 4, 5}\n"
     ]
    }
   ],
   "source": [
    "set1={1,2,3,4,5}\n",
    "print(set1)"
   ]
  },
  {
   "cell_type": "code",
   "execution_count": 2,
   "id": "0408fdec-29e5-4614-bac8-c8a7b697bbef",
   "metadata": {},
   "outputs": [
    {
     "name": "stdout",
     "output_type": "stream",
     "text": [
      "{1, 2, 3, 4, 5, 6}\n"
     ]
    }
   ],
   "source": [
    "set1.add(6)\n",
    "print(set1)"
   ]
  },
  {
   "cell_type": "code",
   "execution_count": 5,
   "id": "3ee05cbf-557c-4c15-aee6-8be916125465",
   "metadata": {},
   "outputs": [
    {
     "name": "stdout",
     "output_type": "stream",
     "text": [
      "{2, 3, 4, 5}\n"
     ]
    }
   ],
   "source": [
    "set1.remove(6)\n",
    "print(set1)"
   ]
  },
  {
   "cell_type": "code",
   "execution_count": 8,
   "id": "757ebaa3-bf02-4e6a-88a2-ad0c0eea3e81",
   "metadata": {},
   "outputs": [
    {
     "name": "stdin",
     "output_type": "stream",
     "text": [
      "Enter Element: 3\n"
     ]
    },
    {
     "name": "stdout",
     "output_type": "stream",
     "text": [
      "3 exists\n"
     ]
    }
   ],
   "source": [
    "set1={1,2,3,4,5}\n",
    "n=int(input(\"Enter Element:\"))\n",
    "if n in set1:\n",
    "    print(n,\"exists\")\n",
    "else:\n",
    "    print(n,\"not exists\")"
   ]
  },
  {
   "cell_type": "code",
   "execution_count": 9,
   "id": "2070e715-c305-414a-83af-429001442a2b",
   "metadata": {},
   "outputs": [
    {
     "name": "stdout",
     "output_type": "stream",
     "text": [
      "Length of the set: 6\n"
     ]
    }
   ],
   "source": [
    "set1={1,2,3,4,5,6}\n",
    "length=0\n",
    "for _ in set1:\n",
    "    length+=1\n",
    "print(\"Length of the set:\",length)"
   ]
  },
  {
   "cell_type": "code",
   "execution_count": 11,
   "id": "1046bbef-0a00-47a3-8902-6da33841faf3",
   "metadata": {},
   "outputs": [
    {
     "name": "stdout",
     "output_type": "stream",
     "text": [
      "set()\n"
     ]
    }
   ],
   "source": [
    "set1.clear()\n",
    "print(set1)"
   ]
  },
  {
   "cell_type": "code",
   "execution_count": 20,
   "id": "206489a6-f981-445f-a24f-bf1b86ab46f4",
   "metadata": {},
   "outputs": [
    {
     "name": "stdout",
     "output_type": "stream",
     "text": [
      "{2, 4, 6, 8, 10}\n"
     ]
    }
   ],
   "source": [
    "set1=set()\n",
    "for i in range(1,11):\n",
    "    if(i%2==0):\n",
    "        set1.add(i)\n",
    "print(set1)"
   ]
  },
  {
   "cell_type": "code",
   "execution_count": 21,
   "id": "45c23609-9d6c-49ab-bf35-9ff0d37215e3",
   "metadata": {},
   "outputs": [
    {
     "name": "stdout",
     "output_type": "stream",
     "text": [
      "{1, 3, 5, 7, 9}\n"
     ]
    }
   ],
   "source": [
    "set2=set()\n",
    "for i in range(0,10):\n",
    "    if(i%2!=0):\n",
    "        set2.add(i)\n",
    "print(set2)"
   ]
  },
  {
   "cell_type": "code",
   "execution_count": 24,
   "id": "c5776ef0-651e-4ac7-a82f-bcb4dc0dac5e",
   "metadata": {},
   "outputs": [
    {
     "name": "stdout",
     "output_type": "stream",
     "text": [
      "{1, 2, 3, 4, 5, 6}\n"
     ]
    }
   ],
   "source": [
    "set1 = {1, 2, 3, 4}\n",
    "set2 = {3, 4, 5, 6}\n",
    "set3 = set1.union(set2)\n",
    "print(set3)"
   ]
  },
  {
   "cell_type": "code",
   "execution_count": 25,
   "id": "3c668327-0faf-409d-a4d3-9f3808e14745",
   "metadata": {},
   "outputs": [
    {
     "name": "stdout",
     "output_type": "stream",
     "text": [
      "{3, 4}\n"
     ]
    }
   ],
   "source": [
    "set1 = {1, 2, 3, 4}\n",
    "set2 = {3, 4, 5, 6}\n",
    "set3 = set1.intersection(set2)\n",
    "print(set3)"
   ]
  },
  {
   "cell_type": "code",
   "execution_count": 26,
   "id": "987762dc-5e45-4993-a74c-7b6c6327c5cf",
   "metadata": {},
   "outputs": [
    {
     "name": "stdout",
     "output_type": "stream",
     "text": [
      "{1, 2}\n"
     ]
    }
   ],
   "source": [
    "set1 = {1, 2, 3, 4}\n",
    "set2 = {3, 4, 5, 6}\n",
    "set3 = set1.difference(set2)\n",
    "print(set3)"
   ]
  },
  {
   "cell_type": "code",
   "execution_count": 29,
   "id": "fa6fb1d6-88c3-466f-96ca-0f970e9dff1d",
   "metadata": {},
   "outputs": [
    {
     "name": "stdout",
     "output_type": "stream",
     "text": [
      "Set 2 is Subset of Set 1\n"
     ]
    }
   ],
   "source": [
    "set1 = {1, 2, 3, 4}\n",
    "set2 = {2,3}\n",
    "if(set2.issubset(set1)):\n",
    "    print(\"Set 2 is Subset of Set 1\")\n",
    "else:\n",
    "    print(\"No Subset\")"
   ]
  },
  {
   "cell_type": "code",
   "execution_count": 30,
   "id": "e3e4c52b-25ea-4926-8541-13b254ed0182",
   "metadata": {},
   "outputs": [
    {
     "name": "stdout",
     "output_type": "stream",
     "text": [
      "Set 1 is Superset of Set 2\n"
     ]
    }
   ],
   "source": [
    "set1 = {1, 2, 3, 4}\n",
    "set2 = {2,3}\n",
    "if(set1.issuperset(set2)):\n",
    "    print(\"Set 1 is Superset of Set 2\")\n",
    "else:\n",
    "    print(\"No Superset\")"
   ]
  },
  {
   "cell_type": "code",
   "execution_count": 31,
   "id": "ad7519fd-057e-4816-8083-83bdb1c66d7a",
   "metadata": {},
   "outputs": [
    {
     "name": "stdout",
     "output_type": "stream",
     "text": [
      "{1, 2, 3, 4, 5}\n"
     ]
    }
   ],
   "source": [
    "list1=[1,2,3,4,5]\n",
    "new_set= set(list1)\n",
    "print(new_set)"
   ]
  },
  {
   "cell_type": "code",
   "execution_count": 32,
   "id": "0082ff98-b360-4974-8198-06a7ae3dffa9",
   "metadata": {},
   "outputs": [
    {
     "name": "stdout",
     "output_type": "stream",
     "text": [
      "Set: {1, 2, 3, 4, 5}\n",
      "Converted List: [1, 2, 3, 4, 5]\n"
     ]
    }
   ],
   "source": [
    "print(\"Set:\",new_set)\n",
    "new_lst= list(new_set)\n",
    "print(\"Converted List:\",new_lst)"
   ]
  },
  {
   "cell_type": "code",
   "execution_count": 67,
   "id": "bdf1e992-c911-4e8b-b471-a5f4fa114d71",
   "metadata": {},
   "outputs": [
    {
     "name": "stdout",
     "output_type": "stream",
     "text": [
      "Deleted Element randomly is 1\n"
     ]
    }
   ],
   "source": [
    "set1={1,2,3,4,5}\n",
    "del_ele=set1.pop()\n",
    "print(\"Deleted Element randomly is\",del_ele)"
   ]
  },
  {
   "cell_type": "code",
   "execution_count": 69,
   "id": "4d080a25-061f-492b-be4f-288ebd34cc97",
   "metadata": {},
   "outputs": [
    {
     "name": "stdout",
     "output_type": "stream",
     "text": [
      "No elements in common\n"
     ]
    }
   ],
   "source": [
    "set1={1,2,3}\n",
    "set2={4,5,6}\n",
    "disjoint_ele= set1.isdisjoint(set2)\n",
    "if disjoint_ele:\n",
    "    print(\"No elements in common\")\n",
    "else:\n",
    "    print(\"Atleast 1 element in common\")"
   ]
  },
  {
   "cell_type": "code",
   "execution_count": 71,
   "id": "8d74ed6b-607a-42dd-9458-bd02de042c62",
   "metadata": {},
   "outputs": [
    {
     "name": "stdout",
     "output_type": "stream",
     "text": [
      "{1, 4}\n"
     ]
    }
   ],
   "source": [
    "set1={1,2,3}\n",
    "set2={4,3,2}\n",
    "set3=set1.symmetric_difference(set2)\n",
    "print(set3)"
   ]
  },
  {
   "cell_type": "code",
   "execution_count": 73,
   "id": "5db00e0c-ce3f-4801-9c57-c026ada6f30f",
   "metadata": {},
   "outputs": [
    {
     "name": "stdout",
     "output_type": "stream",
     "text": [
      "{1, 2, 3, 4}\n"
     ]
    }
   ],
   "source": [
    "set1.update(set2)\n",
    "print(set1)"
   ]
  },
  {
   "cell_type": "code",
   "execution_count": 78,
   "id": "89e32244-8f6a-467a-b056-eb9cf95c9d0a",
   "metadata": {},
   "outputs": [
    {
     "name": "stdout",
     "output_type": "stream",
     "text": [
      "{2, 3, 5, 7, 11}\n"
     ]
    }
   ],
   "source": [
    "primes=set()\n",
    "num=2\n",
    "for _ in range(10):\n",
    "    for i in range(2, int(num**0.5)+1):\n",
    "        if(num%i==0):\n",
    "            break\n",
    "    else:\n",
    "        primes.add(num)\n",
    "    num+=1\n",
    "print(primes)"
   ]
  },
  {
   "cell_type": "code",
   "execution_count": 79,
   "id": "7f7c6c0a-68cc-46c5-807b-c2dc611a3f35",
   "metadata": {},
   "outputs": [
    {
     "name": "stdout",
     "output_type": "stream",
     "text": [
      "Sets are Identical\n"
     ]
    }
   ],
   "source": [
    "set1={1,2,3,4}\n",
    "set2={1,2,3,4}\n",
    "if(set1==set2):\n",
    "    print(\"Sets are Identical\")\n",
    "else:\n",
    "    print(\"Not Identical\")"
   ]
  },
  {
   "cell_type": "code",
   "execution_count": 80,
   "id": "707a4a52-a931-4abf-bd9d-b70704e29cb2",
   "metadata": {},
   "outputs": [
    {
     "name": "stdout",
     "output_type": "stream",
     "text": [
      "Regular set: {1, 2, 3, 4, 5}\n",
      "Frozen set: frozenset({1, 2, 3, 4, 5})\n"
     ]
    }
   ],
   "source": [
    "my_set = {1, 2, 3, 4, 5}\n",
    "my_frozen_set = frozenset(my_set)\n",
    "print(\"Regular set:\", my_set)\n",
    "print(\"Frozen set:\", my_frozen_set)"
   ]
  },
  {
   "cell_type": "code",
   "execution_count": 81,
   "id": "df8f8587-cf03-473a-9dbf-f9cdca665725",
   "metadata": {},
   "outputs": [
    {
     "name": "stdout",
     "output_type": "stream",
     "text": [
      "Sets are Disjoint\n"
     ]
    }
   ],
   "source": [
    "set1={1,2,3}\n",
    "set2={4,5,6}\n",
    "disjoint_ele= set1.isdisjoint(set2)\n",
    "if disjoint_ele:\n",
    "    print(\"Sets are Disjoint\")\n",
    "else:\n",
    "    print(\"Sets aren't Disjoint\")"
   ]
  },
  {
   "cell_type": "code",
   "execution_count": 85,
   "id": "34e771be-a56f-497d-be62-7c0c7c50b281",
   "metadata": {},
   "outputs": [
    {
     "name": "stdout",
     "output_type": "stream",
     "text": [
      "{1, 4, 9, 16, 25}\n"
     ]
    }
   ],
   "source": [
    "sqset=set()\n",
    "for i in range(1,6):\n",
    "    sqset.add(i*i)\n",
    "print(sqset)"
   ]
  },
  {
   "cell_type": "code",
   "execution_count": 88,
   "id": "43498fc1-3eea-486a-95a3-5ab42e58cc07",
   "metadata": {},
   "outputs": [
    {
     "name": "stdout",
     "output_type": "stream",
     "text": [
      "{1, 3, 5, 7, 9}\n"
     ]
    }
   ],
   "source": [
    "set1={1,2,3,4,5,6,7,8,9}\n",
    "set1_copy=set1.copy()\n",
    "for i in set1_copy:\n",
    "    if(i%2==0):\n",
    "        set1.remove(i)\n",
    "print(set1)"
   ]
  },
  {
   "cell_type": "code",
   "execution_count": 90,
   "id": "b93abe4a-6db2-47a3-b7d0-cfdc1f3da2e5",
   "metadata": {},
   "outputs": [
    {
     "name": "stdout",
     "output_type": "stream",
     "text": [
      "Original set: {1, 2, 3, 4, 5}\n",
      "Doubled set: {2, 4, 6, 8, 10}\n"
     ]
    }
   ],
   "source": [
    "original_set = {1, 2, 3, 4, 5}\n",
    "doubled_set = {x * 2 for x in original_set}\n",
    "\n",
    "print(\"Original set:\", original_set)\n",
    "print(\"Doubled set:\", doubled_set)\n",
    "   "
   ]
  },
  {
   "cell_type": "code",
   "execution_count": 94,
   "id": "22d408f0-0b19-4ae8-bf90-f797243db820",
   "metadata": {},
   "outputs": [
    {
     "name": "stdout",
     "output_type": "stream",
     "text": [
      "{8, 4, 5, 7}\n"
     ]
    }
   ],
   "source": [
    "import random\n",
    "random_set={random.randint(1,10) for _ in range(5)}\n",
    "print(random_set)\n"
   ]
  },
  {
   "cell_type": "code",
   "execution_count": 96,
   "id": "39f4088d-b3bc-424f-a0da-636c31ecae3f",
   "metadata": {},
   "outputs": [
    {
     "name": "stdout",
     "output_type": "stream",
     "text": [
      "Set is empty\n"
     ]
    }
   ],
   "source": [
    "set1=set()\n",
    "if not set1:\n",
    "    print(\"Set is empty\")\n",
    "else:\n",
    "    print(\"Set is not empty\")        "
   ]
  },
  {
   "cell_type": "code",
   "execution_count": 97,
   "id": "671cc1c4-46b3-4720-b179-c87bda8fcd13",
   "metadata": {},
   "outputs": [
    {
     "name": "stdout",
     "output_type": "stream",
     "text": [
      "Nested set: {frozenset({3, 4, 5}), frozenset({8, 6, 7}), frozenset({1, 2})}\n"
     ]
    }
   ],
   "source": [
    "nested_set = {frozenset({1, 2}), frozenset({3, 4, 5}), frozenset({6, 7, 8})}\n",
    "print(\"Nested set:\", nested_set)\n"
   ]
  },
  {
   "cell_type": "code",
   "execution_count": 98,
   "id": "39321193-d1ee-4239-84ca-6eb7d1df3eb8",
   "metadata": {},
   "outputs": [
    {
     "name": "stdout",
     "output_type": "stream",
     "text": [
      "{1, 3}\n"
     ]
    }
   ],
   "source": [
    "set1={1,2,3}\n",
    "x=2\n",
    "set1.discard(x)\n",
    "print(set1)"
   ]
  },
  {
   "cell_type": "code",
   "execution_count": 99,
   "id": "bfba8488-55e3-41c8-b685-08310a2ba5dc",
   "metadata": {},
   "outputs": [
    {
     "name": "stdout",
     "output_type": "stream",
     "text": [
      "Set are equal\n"
     ]
    }
   ],
   "source": [
    "set1={1,2,3}\n",
    "set2={1,2,3}\n",
    "if set1==set2:\n",
    "    print(\"Set are equal\")\n",
    "else:\n",
    "    print(\"Set are not equal\")"
   ]
  },
  {
   "cell_type": "code",
   "execution_count": 101,
   "id": "9296c52f-ee33-4b7f-8217-e52a295adab6",
   "metadata": {},
   "outputs": [
    {
     "name": "stdin",
     "output_type": "stream",
     "text": [
      "Enter a string: aayush is a good boy\n"
     ]
    },
    {
     "name": "stdout",
     "output_type": "stream",
     "text": [
      "{'aayush', 'good', 'boy', 'a', 'is'}\n"
     ]
    }
   ],
   "source": [
    "strset= str(input(\"Enter a string:\"))\n",
    "new_set=set(strset.split(' '))\n",
    "print(new_set)"
   ]
  },
  {
   "cell_type": "code",
   "execution_count": 102,
   "id": "a43b4573-be0e-439e-8714-b202111983a3",
   "metadata": {},
   "outputs": [
    {
     "name": "stdout",
     "output_type": "stream",
     "text": [
      "{1, 2, 3}\n"
     ]
    }
   ],
   "source": [
    "str_set={'1','2','3'}\n",
    "int_set=set()\n",
    "for i in str_set:\n",
    "    int_set.add(int(i))\n",
    "print(int_set)"
   ]
  },
  {
   "cell_type": "code",
   "execution_count": 104,
   "id": "675d57eb-380e-4d6e-8d75-152419d98eec",
   "metadata": {},
   "outputs": [
    {
     "name": "stdout",
     "output_type": "stream",
     "text": [
      "{'1', '5', '4', '3', '2'}\n"
     ]
    }
   ],
   "source": [
    "int_set={1,2,3,4,5}\n",
    "str_set=set()\n",
    "for i in int_set:\n",
    "    str_set.add(str(i))\n",
    "print(str_set)"
   ]
  },
  {
   "cell_type": "code",
   "execution_count": 105,
   "id": "da8fe9b7-b971-4ae2-bbad-cc9e88acd69d",
   "metadata": {},
   "outputs": [
    {
     "name": "stdout",
     "output_type": "stream",
     "text": [
      "{1, 2, 3, 4, 5}\n"
     ]
    }
   ],
   "source": [
    "tuple1=(1,2,3,4,5)\n",
    "neset= set(tuple1)\n",
    "print(neset)"
   ]
  },
  {
   "cell_type": "code",
   "execution_count": 106,
   "id": "8413db3b-126c-43aa-a7e3-a958a644ea73",
   "metadata": {},
   "outputs": [
    {
     "name": "stdout",
     "output_type": "stream",
     "text": [
      "(1, 2, 3, 4, 5)\n"
     ]
    }
   ],
   "source": [
    "neset1={1,2,3,4,5}\n",
    "tuple2= tuple(neset1)\n",
    "print(tuple2)"
   ]
  },
  {
   "cell_type": "code",
   "execution_count": 107,
   "id": "26ab4196-ead6-49b0-8713-42a168837ca5",
   "metadata": {},
   "outputs": [
    {
     "name": "stdout",
     "output_type": "stream",
     "text": [
      "21\n"
     ]
    }
   ],
   "source": [
    "neset1={10,11,17,9,21}\n",
    "max_value=max(neset1)\n",
    "print(max_value)"
   ]
  },
  {
   "cell_type": "code",
   "execution_count": 108,
   "id": "05d1b0fc-9406-4f96-927b-f6a7eaede1c4",
   "metadata": {},
   "outputs": [
    {
     "name": "stdout",
     "output_type": "stream",
     "text": [
      "9\n"
     ]
    }
   ],
   "source": [
    "neset1={10,11,17,9,21}\n",
    "min_value=min(neset1)\n",
    "print(min_value)"
   ]
  },
  {
   "cell_type": "code",
   "execution_count": 109,
   "id": "37bb1e69-662d-4b72-ab73-05a8d9bb4dda",
   "metadata": {},
   "outputs": [
    {
     "name": "stdin",
     "output_type": "stream",
     "text": [
      "Enter elements separated by spaces:  aayush is a good boy\n"
     ]
    },
    {
     "name": "stdout",
     "output_type": "stream",
     "text": [
      "User-created set: {'aayush', 'good', 'boy', 'a', 'is'}\n"
     ]
    }
   ],
   "source": [
    "user_input_str = input(\"Enter elements separated by spaces: \")\n",
    "elements_list = user_input_str.split()\n",
    "user_set = set(elements_list)\n",
    "print(\"User-created set:\", user_set)"
   ]
  },
  {
   "cell_type": "code",
   "execution_count": 112,
   "id": "e8119e78-cf44-41fa-b0a2-aa8da8bfd727",
   "metadata": {},
   "outputs": [
    {
     "name": "stdout",
     "output_type": "stream",
     "text": [
      "NO Intersection\n"
     ]
    }
   ],
   "source": [
    "set1={1,2,3}\n",
    "set2={4,5,6}\n",
    "set3= set1.intersection(set2)\n",
    "if not set3:\n",
    "    print(\"NO Intersection\")\n",
    "else:\n",
    "    print(set3)"
   ]
  },
  {
   "cell_type": "code",
   "execution_count": 114,
   "id": "29dfd14f-a3a0-4d92-9bac-78e884b1862f",
   "metadata": {},
   "outputs": [
    {
     "name": "stdout",
     "output_type": "stream",
     "text": [
      "Set of the first 5 Fibonacci numbers: {0, 1, 2, 3, 5}\n"
     ]
    }
   ],
   "source": [
    "fibonacci_numbers = [0, 1]\n",
    "\n",
    "for _ in range(4):\n",
    "    next_fibonacci = sum(fibonacci_numbers[-2:])\n",
    "    fibonacci_numbers.append(next_fibonacci)\n",
    "\n",
    "fibonacci_set = set(fibonacci_numbers)\n",
    "\n",
    "print(\"Set of the first 5 Fibonacci numbers:\", fibonacci_set)\n"
   ]
  },
  {
   "cell_type": "code",
   "execution_count": 115,
   "id": "d351c680-7a6c-46a9-a768-52cfd7032979",
   "metadata": {},
   "outputs": [
    {
     "name": "stdout",
     "output_type": "stream",
     "text": [
      "{0, 1, 2, 3, 4, 5}\n"
     ]
    }
   ],
   "source": [
    "list1=[0,1,1,2,2,3,4,4,5]\n",
    "print(set(list1))"
   ]
  },
  {
   "cell_type": "code",
   "execution_count": 117,
   "id": "5af8a6a3-577b-433c-a76b-923fb2ebe3d8",
   "metadata": {},
   "outputs": [
    {
     "name": "stdout",
     "output_type": "stream",
     "text": [
      "Intersecting elements regardless of their count {2, 4}\n"
     ]
    }
   ],
   "source": [
    "set1={1,2,2,3,4,4}\n",
    "set2={2,4,4,5}\n",
    "set3=set1.intersection(set2)\n",
    "if not set3:\n",
    "    print(\"No Intersection\")\n",
    "else:\n",
    "    print(\"Intersecting elements regardless of their count\",set3)"
   ]
  },
  {
   "cell_type": "code",
   "execution_count": 126,
   "id": "8adba822-c00a-4cf1-b06c-4a590688f854",
   "metadata": {},
   "outputs": [
    {
     "name": "stdin",
     "output_type": "stream",
     "text": [
      "Enter N: 4\n"
     ]
    },
    {
     "name": "stdout",
     "output_type": "stream",
     "text": [
      "{8, 16, 2, 4}\n"
     ]
    }
   ],
   "source": [
    "my_set=set()\n",
    "n=int(input(\"Enter N:\"))\n",
    "for i in range(1,n+1):\n",
    "    my_set.add(2**i)\n",
    "    \n",
    "print(my_set)    "
   ]
  },
  {
   "cell_type": "code",
   "execution_count": 128,
   "id": "2292e837-484a-4a1c-a736-e204e0262f8f",
   "metadata": {},
   "outputs": [
    {
     "name": "stdout",
     "output_type": "stream",
     "text": [
      "Common Elements after Intersection: {2, 3}\n"
     ]
    }
   ],
   "source": [
    "set1={1,2,3,4,5,6}\n",
    "lis1=[2,3,7,8,9]\n",
    "set3= set1.intersection(set(lis1))\n",
    "if not set3:\n",
    "    print(\"No Intersection\")\n",
    "else:\n",
    "    print(\"Common Elements after Intersection:\",set3)"
   ]
  },
  {
   "cell_type": "code",
   "execution_count": 130,
   "id": "33d4bb5b-ad88-463e-b638-6d60c1a644ee",
   "metadata": {},
   "outputs": [
    {
     "name": "stdin",
     "output_type": "stream",
     "text": [
      "Enter Number: 6\n"
     ]
    },
    {
     "name": "stdout",
     "output_type": "stream",
     "text": [
      "{1, 3, 6, 10, 15, 21}\n"
     ]
    }
   ],
   "source": [
    "n= int(input(\"Enter Number:\"))\n",
    "tset=set()\n",
    "for j in range(1,n+1):\n",
    "    tset.add(j*(j+1)//2)\n",
    "print(tset)"
   ]
  },
  {
   "cell_type": "code",
   "execution_count": 132,
   "id": "37ee3b3c-2a63-45b6-9180-467b3ea7a422",
   "metadata": {},
   "outputs": [
    {
     "name": "stdout",
     "output_type": "stream",
     "text": [
      "Subset: True\n"
     ]
    }
   ],
   "source": [
    "set1={1,2,3,4,5}\n",
    "set2={4,5}\n",
    "set3=set2.issubset(set1)\n",
    "if not set3:\n",
    "    print(\"No subset\")\n",
    "else:\n",
    "    print(\"Subset:\",set3)\n",
    "    "
   ]
  },
  {
   "cell_type": "code",
   "execution_count": 134,
   "id": "f38d0503-3f6e-4c2a-a73a-41d4ee5adf8b",
   "metadata": {},
   "outputs": [
    {
     "name": "stdout",
     "output_type": "stream",
     "text": [
      "Set of alternating 1s and 0s: {0, 1}\n"
     ]
    }
   ],
   "source": [
    "n = 2\n",
    "alternating_set = set((i % 2) for i in range(n))\n",
    "print(\"Set of alternating 1s and 0s:\", alternating_set)"
   ]
  },
  {
   "cell_type": "code",
   "execution_count": null,
   "id": "4f20e691-dee2-416f-9dfe-19d9b5cbf261",
   "metadata": {},
   "outputs": [],
   "source": []
  }
 ],
 "metadata": {
  "kernelspec": {
   "display_name": "Python 3 (ipykernel)",
   "language": "python",
   "name": "python3"
  },
  "language_info": {
   "codemirror_mode": {
    "name": "ipython",
    "version": 3
   },
   "file_extension": ".py",
   "mimetype": "text/x-python",
   "name": "python",
   "nbconvert_exporter": "python",
   "pygments_lexer": "ipython3",
   "version": "3.10.8"
  }
 },
 "nbformat": 4,
 "nbformat_minor": 5
}
